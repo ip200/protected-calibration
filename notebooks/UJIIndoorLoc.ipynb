{
 "cells": [
  {
   "cell_type": "markdown",
   "metadata": {},
   "source": [
    "# Experiments with UJIIndoorLoc (multiclass)"
   ]
  },
  {
   "cell_type": "markdown",
   "metadata": {},
   "source": [
    "We consider two scenarios.\n",
    "Scenario 1 is similar to what we have for the two binary datasets in the paper,\n",
    "wheras scenario 2 is different.\n",
    "\n",
    "The dataset can be downloaded from https://archive.ics.uci.edu/ml/datasets/ujiindoorloc."
   ]
  },
  {
   "cell_type": "markdown",
   "metadata": {},
   "source": [
    "## 1 Reading the dataset in Scenario 1"
   ]
  },
  {
   "cell_type": "markdown",
   "metadata": {},
   "source": [
    "Scenario 1 uses only the file trainingData.csv.\n",
    "The first 10000 observations are used as training set,\n",
    "and the remaining 9937 observations as test set."
   ]
  },
  {
   "cell_type": "code",
   "execution_count": 1,
   "metadata": {},
   "outputs": [
    {
     "name": "stdout",
     "output_type": "stream",
     "text": [
      "Dataset shape: (19937, 529)\n",
      "Sorted timestamps: [1369908924 1369908928 1369908931 1369908935 1369908940 1369908943\n",
      " 1369908944 1369908946 1369908948 1369908951]\n",
      "The shapes of X_train y_train X_test y_test: (10000, 520) (10000,) (9937, 520) (9937,)\n",
      "Time elapsed: 7.146721363067627\n"
     ]
    }
   ],
   "source": [
    "import time\n",
    "start = time.time()\n",
    "\n",
    "import numpy as np\n",
    "import matplotlib.pyplot as plt\n",
    "\n",
    "# Replace by the location on your computer:\n",
    "dataset = np.loadtxt(\"C:/DnB/Work/R/Data/MachineLearning/UJIIndoorLoc/trainingData.csv\",skiprows=1,delimiter=',')\n",
    "\n",
    "order = np.argsort(dataset[:,528])\n",
    "dataset_sorted = dataset[order]\n",
    "\n",
    "N_train = 10000\n",
    "N_total = dataset.shape[0]   # the size of the dataset\n",
    "N_test = N_total - N_train\n",
    "\n",
    "X_train = np.delete(dataset_sorted[:N_train],[520,521,522,523,524,525,526,527,528],1) # matrix of training objects\n",
    "X_test = np.delete(dataset_sorted[N_train:N_total],[520,521,522,523,524,525,526,527,528],1) # matrix of test objects\n",
    "y_train = dataset_sorted[:N_train,523].astype(int)  # vector of training labels as integers (the building, 0 to 2)\n",
    "y_test = dataset_sorted[N_train:N_total,523].astype(int) # vector of test labels as integers (the building, 0 to 2)\n",
    "\n",
    "# Basic sanity checks:\n",
    "print(\"Dataset shape:\",dataset.shape)\n",
    "print(\"Sorted timestamps:\",dataset_sorted[:10,528].astype(int))\n",
    "print(\"The shapes of X_train y_train X_test y_test:\",X_train.shape,y_train.shape,X_test.shape,y_test.shape)\n",
    "\n",
    "# finding time elapsed in seconds\n",
    "end = time.time()\n",
    "print(\"Time elapsed:\", end - start)"
   ]
  },
  {
   "cell_type": "markdown",
   "metadata": {},
   "source": [
    "The training set has all three buildings, but mostly 0."
   ]
  },
  {
   "cell_type": "code",
   "execution_count": 2,
   "metadata": {
    "scrolled": true
   },
   "outputs": [
    {
     "data": {
      "text/plain": [
       "(array([5249.,    0.,    0.,    0.,    0., 3026.,    0.,    0.,    0.,\n",
       "        1725.]),\n",
       " array([0. , 0.2, 0.4, 0.6, 0.8, 1. , 1.2, 1.4, 1.6, 1.8, 2. ]),\n",
       " <a list of 10 Patch objects>)"
      ]
     },
     "execution_count": 2,
     "metadata": {},
     "output_type": "execute_result"
    },
    {
     "data": {
      "image/png": "[encoded data removed]",
      "text/plain": [
       "<Figure size 432x288 with 1 Axes>"
      ]
     },
     "metadata": {
      "needs_background": "light"
     },
     "output_type": "display_data"
    }
   ],
   "source": [
    "plt.hist(y_train)"
   ]
  },
  {
   "cell_type": "markdown",
   "metadata": {},
   "source": [
    "Whereas the test set has only two buildings."
   ]
  },
  {
   "cell_type": "code",
   "execution_count": 3,
   "metadata": {},
   "outputs": [
    {
     "data": {
      "text/plain": [
       "(array([2170.,    0.,    0.,    0.,    0.,    0.,    0.,    0.,    0.,\n",
       "        7767.]),\n",
       " array([1. , 1.1, 1.2, 1.3, 1.4, 1.5, 1.6, 1.7, 1.8, 1.9, 2. ]),\n",
       " <a list of 10 Patch objects>)"
      ]
     },
     "execution_count": 3,
     "metadata": {},
     "output_type": "execute_result"
    },
    {
     "data": {
      "image/png": "[encoded data removed]",
      "text/plain": [
       "<Figure size 432x288 with 1 Axes>"
      ]
     },
     "metadata": {
      "needs_background": "light"
     },
     "output_type": "display_data"
    }
   ],
   "source": [
    "plt.hist(y_test)"
   ]
  },
  {
   "cell_type": "markdown",
   "metadata": {},
   "source": [
    "## 2 Reading the dataset in Scenario 2"
   ]
  },
  {
   "cell_type": "markdown",
   "metadata": {},
   "source": [
    "Scenario 2 uses only the file trainingData.csv as training set\n",
    "and the file validationData.csv as test set."
   ]
  },
  {
   "cell_type": "code",
   "execution_count": 4,
   "metadata": {},
   "outputs": [
    {
     "name": "stdout",
     "output_type": "stream",
     "text": [
      "The shape of the training set: (19937, 529)\n",
      "The shape of the test set: (1111, 529)\n",
      "Sorted timestamps in the test set: [1379578367 1379578399 1379578500 1379578525 1379578561 1379578603\n",
      " 1379578656 1379578686 1379578784 1379578808]\n",
      "The shapes of X_train y_train X_test y_test: (19937, 520) (19937,) (1111, 520) (1111,)\n",
      "Time elapsed: 7.173128366470337\n"
     ]
    }
   ],
   "source": [
    "import time\n",
    "start = time.time()\n",
    "\n",
    "import numpy as np\n",
    "import matplotlib.pyplot as plt\n",
    "\n",
    "# Replace by the location on your computer:\n",
    "train_set = np.loadtxt(\"C:/DnB/Work/R/Data/MachineLearning/UJIIndoorLoc/trainingData.csv\",skiprows=1,delimiter=',')\n",
    "test_set = np.loadtxt(\"C:/DnB/Work/R/Data/MachineLearning/UJIIndoorLoc/validationData.csv\",skiprows=1,delimiter=',')\n",
    "\n",
    "N_train = train_set.shape[0]  # the size of the test set\n",
    "N_test = test_set.shape[0]    # the size of the test set\n",
    "N_total = N_train + N_test    # the overall number of observations\n",
    "\n",
    "order = np.argsort(test_set[:,528])\n",
    "test_set_sorted = test_set[order]\n",
    "\n",
    "X_train = np.delete(train_set,[520,521,522,523,524,525,526,527,528],1) # matrix of training objects\n",
    "X_test = np.delete(test_set_sorted,[520,521,522,523,524,525,526,527,528],1) # matrix of test objects\n",
    "y_train = train_set[:,523].astype(int)  # vector of training labels as integers (the building, 0 to 2)\n",
    "y_test = test_set_sorted[:,523].astype(int) # vector of test labels as integers (the building, 0 to 2)\n",
    "\n",
    "# Basic sanity checks:\n",
    "print(\"The shape of the training set:\",train_set.shape)\n",
    "print(\"The shape of the test set:\",test_set.shape)\n",
    "print(\"Sorted timestamps in the test set:\",test_set_sorted[:10,528].astype(int))\n",
    "print(\"The shapes of X_train y_train X_test y_test:\",X_train.shape,y_train.shape,X_test.shape,y_test.shape)\n",
    "\n",
    "# finding time elapsed in seconds\n",
    "end = time.time()\n",
    "print(\"Time elapsed:\", end - start)"
   ]
  },
  {
   "cell_type": "markdown",
   "metadata": {},
   "source": [
    "The training set had building 2 in majority."
   ]
  },
  {
   "cell_type": "code",
   "execution_count": 5,
   "metadata": {},
   "outputs": [
    {
     "data": {
      "text/plain": [
       "(array([5249.,    0.,    0.,    0.,    0., 5196.,    0.,    0.,    0.,\n",
       "        9492.]),\n",
       " array([0. , 0.2, 0.4, 0.6, 0.8, 1. , 1.2, 1.4, 1.6, 1.8, 2. ]),\n",
       " <a list of 10 Patch objects>)"
      ]
     },
     "execution_count": 5,
     "metadata": {},
     "output_type": "execute_result"
    },
    {
     "data": {
      "image/png": "[encoded data removed]",
      "text/plain": [
       "<Figure size 432x288 with 1 Axes>"
      ]
     },
     "metadata": {
      "needs_background": "light"
     },
     "output_type": "display_data"
    }
   ],
   "source": [
    "plt.hist(y_train)"
   ]
  },
  {
   "cell_type": "markdown",
   "metadata": {},
   "source": [
    "The test set had building 0 in majority."
   ]
  },
  {
   "cell_type": "code",
   "execution_count": 6,
   "metadata": {},
   "outputs": [
    {
     "data": {
      "text/plain": [
       "(array([536.,   0.,   0.,   0.,   0., 307.,   0.,   0.,   0., 268.]),\n",
       " array([0. , 0.2, 0.4, 0.6, 0.8, 1. , 1.2, 1.4, 1.6, 1.8, 2. ]),\n",
       " <a list of 10 Patch objects>)"
      ]
     },
     "execution_count": 6,
     "metadata": {},
     "output_type": "execute_result"
    },
    {
     "data": {
      "image/png": "[encoded data removed]",
      "text/plain": [
       "<Figure size 432x288 with 1 Axes>"
      ]
     },
     "metadata": {
      "needs_background": "light"
     },
     "output_type": "display_data"
    }
   ],
   "source": [
    "plt.hist(y_test)"
   ]
  },
  {
   "cell_type": "markdown",
   "metadata": {},
   "source": [
    "## 3 Confusion matrix for UJIIndoorLoc"
   ]
  },
  {
   "cell_type": "markdown",
   "metadata": {},
   "source": [
    "Let us use the standard prediction algorithms in scikit-learn."
   ]
  },
  {
   "cell_type": "markdown",
   "metadata": {},
   "source": [
    "### 3.1 Neural Nets"
   ]
  },
  {
   "cell_type": "markdown",
   "metadata": {},
   "source": [
    "First, Neural Nets."
   ]
  },
  {
   "cell_type": "code",
   "execution_count": 7,
   "metadata": {},
   "outputs": [
    {
     "name": "stdout",
     "output_type": "stream",
     "text": [
      "Number of errors: 1\n",
      "Confusion matrix:\n",
      "[[535   1   0]\n",
      " [  0 307   0]\n",
      " [  0   0 268]]\n",
      "Time elapsed: 8.126976728439331\n"
     ]
    }
   ],
   "source": [
    "start = time.time()\n",
    "\n",
    "from sklearn.neural_network import MLPClassifier\n",
    "mlp = MLPClassifier(random_state=2021).fit(X_train,y_train)\n",
    "\n",
    "# Evaluating the quality:\n",
    "y_pred = mlp.predict(X_test)\n",
    "print(\"Number of errors:\",np.sum(y_test!=y_pred))\n",
    "\n",
    "from sklearn.metrics import confusion_matrix\n",
    "print('Confusion matrix:')\n",
    "CM = confusion_matrix(y_test, y_pred)\n",
    "print(CM)\n",
    "\n",
    "# finding time elapsed in seconds\n",
    "end = time.time()\n",
    "print(\"Time elapsed:\", end - start)"
   ]
  },
  {
   "cell_type": "markdown",
   "metadata": {},
   "source": [
    "### 3.2 Support Vector Machines"
   ]
  },
  {
   "cell_type": "markdown",
   "metadata": {},
   "source": [
    "We only use kernel SVM."
   ]
  },
  {
   "cell_type": "code",
   "execution_count": 8,
   "metadata": {},
   "outputs": [
    {
     "name": "stdout",
     "output_type": "stream",
     "text": [
      "Number of errors: 3\n",
      "Confusion matrix:\n",
      "[[534   2   0]\n",
      " [  0 306   1]\n",
      " [  0   0 268]]\n",
      "Time elapsed: 11.679672002792358\n"
     ]
    }
   ],
   "source": [
    "start = time.time()\n",
    "\n",
    "from sklearn.svm import SVC\n",
    "svm = SVC().fit(X_train, y_train)\n",
    "\n",
    "# Evaluating the quality:\n",
    "y_pred = svm.predict(X_test)\n",
    "print(\"Number of errors:\",np.sum(y_test!=y_pred))\n",
    "\n",
    "print('Confusion matrix:')\n",
    "CM = confusion_matrix(y_test, y_pred)\n",
    "print(CM)\n",
    "\n",
    "# finding time elapsed in seconds\n",
    "end = time.time()\n",
    "print(\"Time elapsed:\", end - start)"
   ]
  },
  {
   "cell_type": "markdown",
   "metadata": {},
   "source": [
    "### 3.3 Decision Trees"
   ]
  },
  {
   "cell_type": "code",
   "execution_count": 9,
   "metadata": {},
   "outputs": [
    {
     "name": "stdout",
     "output_type": "stream",
     "text": [
      "Number of errors: 21\n",
      "Confusion matrix:\n",
      "[[533   2   1]\n",
      " [  0 291  16]\n",
      " [  0   2 266]]\n",
      "Time elapsed: 0.7516875267028809\n"
     ]
    }
   ],
   "source": [
    "start = time.time()\n",
    "\n",
    "from sklearn.tree import DecisionTreeClassifier\n",
    "tree = DecisionTreeClassifier(random_state=2021).fit(X_train, y_train)\n",
    "\n",
    "# Evaluating the quality:\n",
    "y_pred = tree.predict(X_test)\n",
    "print(\"Number of errors:\",np.sum(y_test!=y_pred))\n",
    "\n",
    "print('Confusion matrix:')\n",
    "from sklearn.metrics import confusion_matrix\n",
    "CM = confusion_matrix(y_test, y_pred)\n",
    "print(CM)\n",
    "\n",
    "# finding time elapsed in seconds\n",
    "end = time.time()\n",
    "print(\"Time elapsed:\", end - start)"
   ]
  },
  {
   "cell_type": "markdown",
   "metadata": {},
   "source": [
    "### 3.4 Ensemble methods"
   ]
  },
  {
   "cell_type": "markdown",
   "metadata": {},
   "source": [
    "First random forest."
   ]
  },
  {
   "cell_type": "code",
   "execution_count": 10,
   "metadata": {},
   "outputs": [
    {
     "name": "stdout",
     "output_type": "stream",
     "text": [
      "Number of errors: 2\n",
      "Confusion matrix:\n",
      "[[536   0   0]\n",
      " [  1 305   1]\n",
      " [  0   0 268]]\n",
      "Time elapsed: 3.035842180252075\n"
     ]
    }
   ],
   "source": [
    "start = time.time()\n",
    "\n",
    "from sklearn.ensemble import RandomForestClassifier\n",
    "forest = RandomForestClassifier(random_state=2021).fit(X_train, y_train)  # default: n_estimators=100\n",
    "\n",
    "# Evaluating the quality:\n",
    "y_pred = forest.predict(X_test)\n",
    "print(\"Number of errors:\",np.sum(y_test!=y_pred))\n",
    "\n",
    "from sklearn.metrics import confusion_matrix\n",
    "print('Confusion matrix:')\n",
    "CM = confusion_matrix(y_test, y_pred)\n",
    "print(CM)\n",
    "\n",
    "# finding time elapsed in seconds\n",
    "end = time.time()\n",
    "print(\"Time elapsed:\", end - start)"
   ]
  },
  {
   "cell_type": "markdown",
   "metadata": {},
   "source": [
    "Now Gradient Boosting."
   ]
  },
  {
   "cell_type": "code",
   "execution_count": 11,
   "metadata": {},
   "outputs": [
    {
     "name": "stdout",
     "output_type": "stream",
     "text": [
      "Number of errors: 2\n",
      "Confusion matrix:\n",
      "[[534   2   0]\n",
      " [  0 307   0]\n",
      " [  0   0 268]]\n",
      "Time elapsed: 53.70748805999756\n"
     ]
    }
   ],
   "source": [
    "start = time.time()\n",
    "\n",
    "from sklearn.ensemble import GradientBoostingClassifier\n",
    "gb = GradientBoostingClassifier(random_state=2021).fit(X_train, y_train)  # default: n_estimators=100\n",
    "\n",
    "# Evaluating the quality:\n",
    "y_pred = gb.predict(X_test)\n",
    "print(\"Number of errors:\",np.sum(y_test!=y_pred))\n",
    "\n",
    "print('Confusion matrix:')\n",
    "CM = confusion_matrix(y_test, y_pred)\n",
    "print(CM)\n",
    "\n",
    "# finding time elapsed in seconds\n",
    "end = time.time()\n",
    "print(\"Time elapsed:\", end - start)"
   ]
  },
  {
   "cell_type": "markdown",
   "metadata": {},
   "source": [
    "The most difficult pair in Scenario 1 is still (1,2)."
   ]
  },
  {
   "cell_type": "markdown",
   "metadata": {},
   "source": [
    "### 3.5 Naive Bayes"
   ]
  },
  {
   "cell_type": "code",
   "execution_count": 12,
   "metadata": {},
   "outputs": [
    {
     "name": "stdout",
     "output_type": "stream",
     "text": [
      "Number of errors: 9\n",
      "Confusion matrix:\n",
      "[[536   0   0]\n",
      " [  0 298   9]\n",
      " [  0   0 268]]\n",
      "Time elapsed: 0.24141430854797363\n"
     ]
    }
   ],
   "source": [
    "start = time.time()\n",
    "\n",
    "from sklearn.naive_bayes import GaussianNB\n",
    "nb = GaussianNB().fit(X_train, y_train)\n",
    "\n",
    "# Evaluating the quality:\n",
    "y_pred = nb.predict(X_test)\n",
    "print(\"Number of errors:\",np.sum(y_test!=y_pred))\n",
    "\n",
    "from sklearn.metrics import confusion_matrix\n",
    "print('Confusion matrix:')\n",
    "CM = confusion_matrix(y_test, y_pred)\n",
    "print(CM)\n",
    "\n",
    "# finding time elapsed in seconds\n",
    "end = time.time()\n",
    "print(\"Time elapsed:\", end - start)"
   ]
  },
  {
   "cell_type": "markdown",
   "metadata": {},
   "source": [
    "### 3.6 Logistic Regression"
   ]
  },
  {
   "cell_type": "code",
   "execution_count": 13,
   "metadata": {},
   "outputs": [
    {
     "name": "stdout",
     "output_type": "stream",
     "text": [
      "Number of errors: 0\n",
      "Confusion matrix:\n",
      "[[536   0   0]\n",
      " [  0 307   0]\n",
      " [  0   0 268]]\n",
      "Time elapsed: 2.722029447555542\n"
     ]
    },
    {
     "name": "stderr",
     "output_type": "stream",
     "text": [
      "C:\\Users\\uhac013\\Anaconda3\\lib\\site-packages\\sklearn\\linear_model\\_logistic.py:940: ConvergenceWarning: lbfgs failed to converge (status=1):\n",
      "STOP: TOTAL NO. of ITERATIONS REACHED LIMIT.\n",
      "\n",
      "Increase the number of iterations (max_iter) or scale the data as shown in:\n",
      "    https://scikit-learn.org/stable/modules/preprocessing.html\n",
      "Please also refer to the documentation for alternative solver options:\n",
      "    https://scikit-learn.org/stable/modules/linear_model.html#logistic-regression\n",
      "  extra_warning_msg=_LOGISTIC_SOLVER_CONVERGENCE_MSG)\n"
     ]
    }
   ],
   "source": [
    "start = time.time()\n",
    "\n",
    "from sklearn.linear_model import LogisticRegression\n",
    "logistic = LogisticRegression().fit(X_train, y_train)\n",
    "\n",
    "# Evaluating the quality:\n",
    "y_pred = logistic.predict(X_test)\n",
    "print(\"Number of errors:\",np.sum(y_test!=y_pred))\n",
    "\n",
    "from sklearn.metrics import confusion_matrix\n",
    "print('Confusion matrix:')\n",
    "CM = confusion_matrix(y_test, y_pred)\n",
    "print(CM)\n",
    "\n",
    "# finding time elapsed in seconds\n",
    "end = time.time()\n",
    "print(\"Time elapsed:\", end - start)"
   ]
  },
  {
   "cell_type": "markdown",
   "metadata": {},
   "source": [
    "## 4 The log loss of standard algorithms"
   ]
  },
  {
   "cell_type": "markdown",
   "metadata": {},
   "source": [
    "Let us define the truncation function\n",
    "(it is close to, but different from, what we are using in the binary case)."
   ]
  },
  {
   "cell_type": "code",
   "execution_count": 14,
   "metadata": {},
   "outputs": [],
   "source": [
    "epsilon = 10**(-2)  # default: 10**(-2)  # the safety threshold for the log loss function\n",
    "def truncate(p):  # p is a probability vector\n",
    "  p = np.maximum(p,epsilon)\n",
    "  p = p/np.sum(p)\n",
    "  return p"
   ]
  },
  {
   "cell_type": "markdown",
   "metadata": {},
   "source": [
    "Let us evaluate the quality of various probabilistic classifiers."
   ]
  },
  {
   "cell_type": "code",
   "execution_count": 15,
   "metadata": {},
   "outputs": [
    {
     "name": "stdout",
     "output_type": "stream",
     "text": [
      "Number of errors: 2 out of 1111\n",
      "Cumulative log loss: 38.289547023879884\n",
      "Time elapsed: 0.07444238662719727\n"
     ]
    }
   ],
   "source": [
    "import time   # for timing\n",
    "start = time.time()\n",
    "\n",
    "import numpy as np\n",
    "import matplotlib.pyplot as plt\n",
    "\n",
    "# Evaluating the quality of Neural Networks:\n",
    "# y_pred = mlp.predict(X_test)\n",
    "# p_pred = mlp.predict_proba(X_test)\n",
    "\n",
    "# Evaluating the quality of SVM:\n",
    "# svm = SVC(probability=True).fit(X_train,y_train)\n",
    "# y_pred = svm.predict(X_test)\n",
    "# p_pred = svm.predict_proba(X_test)\n",
    "\n",
    "# Evaluating the quality of Decision Trees:\n",
    "# y_pred = tree.predict(X_test)\n",
    "# p_pred = tree.predict_proba(X_test)\n",
    "\n",
    "# Evaluating the quality of Random Forest:\n",
    "y_pred = forest.predict(X_test)\n",
    "p_pred = forest.predict_proba(X_test)\n",
    "\n",
    "# Evaluating the quality of Gradient Boosting:\n",
    "# y_pred = gb.predict(X_test)\n",
    "# p_pred = gb.predict_proba(X_test)\n",
    "\n",
    "# Evaluating the quality of Naive Bayes:\n",
    "# y_pred = nb.predict(X_test)\n",
    "# p_pred = nb.predict_proba(X_test)\n",
    "\n",
    "# Evaluating the quality of Logistic Regression:\n",
    "# y_pred = logistic.predict(X_test)\n",
    "# p_pred = logistic.predict_proba(X_test)\n",
    "\n",
    "print(\"Number of errors:\",np.sum(y_test!=y_pred),'out of',y_test.size)\n",
    "\n",
    "cum_loss = 0  # initialization\n",
    "for n in range(N_test):\n",
    "  predicted = truncate(p_pred[n])[y_test[n]]\n",
    "  if predicted==0:\n",
    "    print(\"Infinity\")\n",
    "  else:\n",
    "    cum_loss += -np.log(predicted)\n",
    "print(\"Cumulative log loss:\",cum_loss)\n",
    "\n",
    "# finding time elapsed in seconds\n",
    "end = time.time()\n",
    "print(\"Time elapsed:\", end - start)"
   ]
  },
  {
   "cell_type": "markdown",
   "metadata": {},
   "source": [
    "## 5 Multiclass martingale"
   ]
  },
  {
   "cell_type": "markdown",
   "metadata": {},
   "source": [
    "First we define a useful function setting a vector of $\\alpha$s given its index."
   ]
  },
  {
   "cell_type": "code",
   "execution_count": 16,
   "metadata": {},
   "outputs": [
    {
     "data": {
      "text/plain": [
       "array([1, 1, 1])"
      ]
     },
     "execution_count": 16,
     "metadata": {},
     "output_type": "execute_result"
    }
   ],
   "source": [
    "def set_alpha(a_index):\n",
    "  result = np.empty(3)  # initializing the result\n",
    "  current_index = a_index\n",
    "  for i in range(3):  # going over all digits\n",
    "    result[i] = current_index % 2\n",
    "    current_index = current_index // 2\n",
    "  return result.astype(int)\n",
    "\n",
    "set_alpha(7)  # testing"
   ]
  },
  {
   "cell_type": "markdown",
   "metadata": {},
   "source": [
    "The following cell implements a general Cox Composite Jumper (CJ) martingale and its components (SJ martingales).\n",
    "It is used for Figure S.10 in the supplementary material (for Scenario 1)."
   ]
  },
  {
   "cell_type": "code",
   "execution_count": 17,
   "metadata": {},
   "outputs": [
    {
     "data": {
      "image/png": "[encoded data removed]",
      "text/plain": [
       "<Figure size 432x288 with 1 Axes>"
      ]
     },
     "metadata": {
      "needs_background": "light"
     },
     "output_type": "display_data"
    },
    {
     "name": "stdout",
     "output_type": "stream",
     "text": [
      "Final values of SJs on the log scale: [10.39787775 12.11277536 11.39418534]\n",
      "Final value of CJ on the log scale: 11.417569348346001\n",
      "Time elapsed: 1.816861867904663\n"
     ]
    }
   ],
   "source": [
    "import time   # for timing\n",
    "start = time.time()\n",
    "\n",
    "# Parameters\n",
    "# pi = 0.5  # assumed but not used explicitly\n",
    "Jrates = [10**(-2),10**(-3),10**(-4)]  # the jumping rates; canonical: 0.01, 0.001, 0.0001\n",
    "delta = 1\n",
    "beta = [1, 0.5, 2]\n",
    "NJ = len(Jrates)\n",
    "\n",
    "# Cox's calibrating functions (general):\n",
    "Ncal_alpha = 2**3-1     # the number of alpha calibrators\n",
    "Ncal_beta = len(beta) # the number of beta calibrators\n",
    "def Cox(p,alpha_index,beta_index):\n",
    "  p_beta = p**beta[beta_index]\n",
    "  p_mod = p_beta*np.exp(delta*alpha_index)\n",
    "  return p_mod/np.sum(p_mod)\n",
    "Ncal = Ncal_alpha * Ncal_beta  # the total number of calibrators\n",
    "\n",
    "# Arithmetic average of numbers given on the log10 scale:\n",
    "def log_mean(x):\n",
    "  m = np.max(x)\n",
    "  return m+np.log10(np.mean(np.exp(np.log(10)*(x-m))))\n",
    "\n",
    "# initializing the SJ and CJ test martingales on the log scale (including the initial value of 0):\n",
    "log_SJ_martingale = np.zeros((NJ,(N_test+1)))\n",
    "log_CJ_martingale = np.zeros(N_test+1)\n",
    "\n",
    "# Processing the dataset\n",
    "for J_index in range(NJ):  # going over all jumping rates\n",
    "  Jrate = Jrates[J_index]  # the current jumping rate\n",
    "  MartCap = np.zeros((Ncal_alpha,Ncal_beta))  # the total capital of martingales in each state\n",
    "  MartCap[0,0] = 1  # the initial distribution for each jumping rate is concentrated at 0\n",
    "  for n in range(N_test):\n",
    "    # Jump mixing starts\n",
    "    Capital = np.sum(MartCap[:,:])  # redundant; Capital=1\n",
    "    MartCap[:,:] = (1-Jrate)*MartCap[:,:] + (Jrate/Ncal)*Capital\n",
    "    # Jump mixing ends\n",
    "    for a_index in range(Ncal_alpha):\n",
    "      alpha = set_alpha(a_index)\n",
    "      for k in range(Ncal_beta):\n",
    "        ppp = truncate(p_pred[n])    # base prediction\n",
    "        new_ppp = Cox(ppp,alpha,k)   # our new prediction\n",
    "        if ppp[y_test[n]]!=0:\n",
    "          MartCap[a_index,k] *= new_ppp[y_test[n]] / ppp[y_test[n]]\n",
    "    increase = np.sum(MartCap[:,:])   # relative increase in my capital\n",
    "    log_SJ_martingale[J_index,n+1] = log_SJ_martingale[J_index,n] + np.log10(increase)\n",
    "    MartCap[:,:] /= increase\n",
    "  plt.plot(log_SJ_martingale[J_index,:],label='jumping rate: '+str(Jrate))  # for SJ martingales\n",
    "\n",
    "for n in range(N_test+1):\n",
    "  log_CJ_martingale[n] = log_mean([0,log_mean(log_SJ_martingale[:,n])])  # 1 becomes 0 on the log scale\n",
    "\n",
    "# plt.plot(log_CJ_martingale,c='b')   # for CJ martingale\n",
    "plt.ylabel('log10 test martingales')  # choose singular or plural\n",
    "plt.legend()  # for SJ martingales\n",
    "# plt.savefig(\"UJI_SJs.pdf\", bbox_inches='tight')\n",
    "plt.show()\n",
    "\n",
    "# Interesting values for the caption or text:\n",
    "print(\"Final values of SJs on the log scale:\", log_SJ_martingale[:,N_test])\n",
    "print(\"Final value of CJ on the log scale:\", log_CJ_martingale[N_test])\n",
    "\n",
    "# finding time elapsed in seconds\n",
    "end = time.time()\n",
    "print(\"Time elapsed:\", end - start)"
   ]
  },
  {
   "cell_type": "markdown",
   "metadata": {},
   "source": [
    "## 6 Turning the test martingale into a predictive system"
   ]
  },
  {
   "cell_type": "markdown",
   "metadata": {},
   "source": [
    "Here we implement Algorithm 2 for $\\pi=0.5$ and for a range of jumping rates.\n",
    "It is used for Tables 3 and 4."
   ]
  },
  {
   "cell_type": "code",
   "execution_count": 18,
   "metadata": {},
   "outputs": [
    {
     "name": "stdout",
     "output_type": "stream",
     "text": [
      "Base log loss: 8.590998224444432 with 0 infinities; modified loss: 16.628938987046322\n",
      "Base number of errors: 2\n",
      "Protected log loss: 5.211369638700127 with 0 infinities; modified log loss (meaningless): 12.215561228862814\n",
      "Protected number of errors: 1\n",
      "Time elapsed: 0.9527468681335449\n"
     ]
    }
   ],
   "source": [
    "import time   # for timing\n",
    "start = time.time()\n",
    "\n",
    "# Parameters\n",
    "pi = 0.5  # the prior weight of the passive elementary predictor\n",
    "Jrates = [10**(-2),10**(-3),10**(-4)]  # the jumping rates\n",
    "delta = 1\n",
    "beta = [1, 0.5, 2]\n",
    "\n",
    "NJ = len(Jrates)\n",
    "\n",
    "# Cox's calibrating functions (general):\n",
    "Ncal_alpha = 2**3-1     # the number of alpha calibrators\n",
    "Ncal_beta = len(beta)   # the number of beta calibrators\n",
    "Ncal = Ncal_alpha * Ncal_beta\n",
    "def Cox(p,alpha_index,beta_index):  # alpha_index is a vector index, beta_index is a scalar index\n",
    "  p_beta = p**beta[beta_index]\n",
    "  p_mod = p_beta*np.exp(delta*alpha_index)\n",
    "  return p_mod/np.sum(p_mod)\n",
    "\n",
    "def set_alpha(a_index):\n",
    "  result = np.empty(3)  # initializing the result\n",
    "  current_index = a_index\n",
    "  for i in range(3):  # going over all digits\n",
    "    result[i] = current_index % 2\n",
    "    current_index = current_index // 2\n",
    "  return result.astype(int)\n",
    "\n",
    "# initializing the predicted probabilities:\n",
    "p_prime = np.empty((N_test,3))\n",
    "\n",
    "# Processing the dataset\n",
    "P_weight = pi    # amount set aside (passive weight)\n",
    "A_weight = np.zeros((NJ,Ncal_alpha,Ncal_beta))  # the weight of each active state\n",
    "A_weight[:,0,0] = (1-pi)/NJ    # initial weights (concentrated at the neutral alpha and beta)\n",
    "for n in range(N_test):  # going through all test observations\n",
    "  # Jump mixing starts\n",
    "  for J_index in range(NJ):\n",
    "    Capital = np.sum(A_weight[J_index,:,:])  # active capital for this jumping rate\n",
    "    Jrate = Jrates[J_index]\n",
    "    A_weight[J_index,:,:] = (1-Jrate)*A_weight[J_index,:,:] + Capital*Jrate/Ncal\n",
    "  # Jump mixing ends\n",
    "  ppp = truncate(p_pred[n])   # base prediction\n",
    "  new_ppp = ppp*P_weight    # initializing the new prediction to its passive component\n",
    "  for a_index in range(Ncal_alpha):\n",
    "    alpha = set_alpha(a_index)\n",
    "    for k in range(Ncal_beta):\n",
    "      cal_ppp = Cox(ppp,alpha,k)  # prediction calibrated by Cox's calibrator (alpha,k)\n",
    "      for J_index in range(NJ):\n",
    "        new_ppp += cal_ppp * A_weight[J_index,a_index,k]  # accumulating calibrated predictions\n",
    "  p_prime[n] = new_ppp   # my prediction\n",
    "  P_weight *= ppp[y_test[n]]  # updating the passive capital\n",
    "  for a_index in range(Ncal_alpha):\n",
    "    alpha = set_alpha(a_index)\n",
    "    for k in range(Ncal_beta):\n",
    "      cal_ppp = Cox(ppp,alpha,k)  # prediction calibrated by the k-th calibrator\n",
    "      for J_index in range(NJ):\n",
    "        A_weight[J_index,a_index,k] *= cal_ppp[y_test[n]]  # updating the active capital\n",
    "  Capital = P_weight + np.sum(A_weight[:,:,:])  # the overall capital\n",
    "  P_weight /= Capital  # normalization of the passive weight\n",
    "  A_weight[:,:,:] /= Capital  # normalization of the active weights\n",
    "\n",
    "# Log loss for the base predictive model:\n",
    "cum_loss = 0  # initialization of the loss\n",
    "num_infty = 0 # initialization of the number of infinities\n",
    "mod_cum_loss = 0 # initialization of the modified loss\n",
    "for n in range(N_test):\n",
    "  predicted = p_pred[n,y_test[n]]\n",
    "  if predicted==0:\n",
    "    num_infty += 1\n",
    "  else:\n",
    "    cum_loss += -np.log10(predicted)\n",
    "  mod_cum_loss += -np.log10(truncate(p_pred[n])[y_test[n]])\n",
    "print(\"Base log loss:\",cum_loss,\"with\",num_infty,\"infinities; modified loss:\",mod_cum_loss)\n",
    "\n",
    "# Number of errors for the base predictive model:\n",
    "num_errors = 0  # initialization of the number of errors\n",
    "for n in range(N_test):\n",
    "  point_pred = np.argmax(p_pred[n,:])  # the point prediction\n",
    "  if y_test[n] != point_pred:\n",
    "    num_errors += 1\n",
    "print(\"Base number of errors:\",num_errors)\n",
    "\n",
    "# Log loss for the protected predictive model:\n",
    "cum_loss = 0  # initialization of the loss\n",
    "num_infty = 0 # initialization of the number of infinities\n",
    "mod_cum_loss = 0 # initialization of the modified loss\n",
    "for n in range(N_test):\n",
    "  predicted = p_prime[n,y_test[n]]\n",
    "  if predicted==0:\n",
    "    num_infty += 1\n",
    "  else:\n",
    "    cum_loss += -np.log10(predicted)\n",
    "  mod_cum_loss += -np.log10(truncate(p_prime[n])[y_test[n]])\n",
    "print(\"Protected log loss:\",cum_loss,\"with\",num_infty,\"infinities; modified log loss (meaningless):\",mod_cum_loss)\n",
    "\n",
    "# Number of errors for the protected predictive model:\n",
    "num_errors = 0  # initialization of the number of errors\n",
    "for n in range(N_test):\n",
    "  point_pred = np.argmax(p_prime[n,:])  # the point prediction\n",
    "  if y_test[n] != point_pred:\n",
    "    num_errors += 1\n",
    "print(\"Protected number of errors:\",num_errors)\n",
    "\n",
    "# finding time elapsed in seconds\n",
    "end = time.time()\n",
    "print(\"Time elapsed:\", end - start)"
   ]
  }
 ],
 "metadata": {
  "kernelspec": {
   "display_name": "Python 3 (ipykernel)",
   "language": "python",
   "name": "python3"
  },
  "language_info": {
   "codemirror_mode": {
    "name": "ipython",
    "version": 3
   },
   "file_extension": ".py",
   "mimetype": "text/x-python",
   "name": "python",
   "nbconvert_exporter": "python",
   "pygments_lexer": "ipython3",
   "version": "3.9.13"
  }
 },
 "nbformat": 4,
 "nbformat_minor": 4
}
