{
 "cells": [
  {
   "cell_type": "markdown",
   "metadata": {},
   "source": [
    "# Experiments for Bank Marketing"
   ]
  },
  {
   "cell_type": "markdown",
   "metadata": {},
   "source": [
    "## 1 Basic performance for the Bank Marketing dataset"
   ]
  },
  {
   "cell_type": "markdown",
   "metadata": {},
   "source": [
    "First we will read the dataset.\n",
    "The labels in this dataset are 1 or 2 (mostly 1).\n",
    "\n",
    "(For Figures S.2 and S.3 in the supplementary material,\n",
    "the shuffling commands should be uncommented.)"
   ]
  },
  {
   "cell_type": "code",
   "execution_count": 1,
   "metadata": {},
   "outputs": [
    {
     "name": "stdout",
     "output_type": "stream",
     "text": [
      "Percentage of successful calls in the training set: 0.035\n",
      "Percentage of successful calls in the test set: 0.14026866604186192\n",
      "Time elapsed: 1.8195347785949707\n"
     ]
    }
   ],
   "source": [
    "# Parameters:\n",
    "N_train = 10000  # the size of the training set\n",
    "\n",
    "import time\n",
    "start = time.time()\n",
    "\n",
    "import numpy as np\n",
    "import matplotlib.pyplot as plt\n",
    "\n",
    "from sklearn.datasets import fetch_openml\n",
    "bank = fetch_openml(name='bank-marketing', version=1)\n",
    "## Shuffling the objects only:\n",
    "# rg = np.random.default_rng(2021)\n",
    "# rg.shuffle(bank.data)     # permute the objects\n",
    "N_total = bank.data.shape[0]   # the size of the dataset\n",
    "N_test = N_total - N_train\n",
    "\n",
    "# Other views of the data:\n",
    "X_train = bank.data[0:N_train]  # matrix of training objects\n",
    "yy_train = bank.target[0:N_train].astype(int)    # vector of training labels (as integes)\n",
    "X_test = bank.data[N_train:]   # matrix of test objects\n",
    "yy_test = bank.target[N_train:].astype(int)     # vector of tets labels (as integers)\n",
    "\n",
    "# turning the labels into 0 (former 1) or 1 (former 2)\n",
    "y_train = np.empty(N_train)\n",
    "y_test = np.empty(N_test)\n",
    "for i in range(N_train):\n",
    "  if yy_train[i]==2:\n",
    "    y_train[i] = 1\n",
    "  else:\n",
    "    y_train[i] = 0\n",
    "for i in range(N_test):\n",
    "  if yy_test[i]==2:\n",
    "    y_test[i] = 1\n",
    "  else:\n",
    "    y_test[i] = 0\n",
    "\n",
    "print(\"Percentage of successful calls in the training set:\", np.mean(y_train))\n",
    "print(\"Percentage of successful calls in the test set:\", np.mean(y_test))\n",
    "\n",
    "# finding time elapsed in seconds\n",
    "end = time.time()\n",
    "print(\"Time elapsed:\", end - start)"
   ]
  },
  {
   "cell_type": "markdown",
   "metadata": {},
   "source": [
    "Now let us normalize the features by applying StandardScaler.\n",
    "(This does not change the results.)"
   ]
  },
  {
   "cell_type": "code",
   "execution_count": 2,
   "metadata": {},
   "outputs": [],
   "source": [
    "from sklearn.preprocessing import StandardScaler\n",
    "scaler = StandardScaler()\n",
    "scaler.fit(X_train)\n",
    "X_train = scaler.transform(X_train)\n",
    "X_test = scaler.transform(X_test)"
   ]
  },
  {
   "cell_type": "markdown",
   "metadata": {},
   "source": [
    "Let us use the standard prediction algorithms in scikit-learn that are able to produce probabilities.\n",
    "(In the figures we use Random Forest.)"
   ]
  },
  {
   "cell_type": "markdown",
   "metadata": {},
   "source": [
    "### 1.1 Neural nets"
   ]
  },
  {
   "cell_type": "code",
   "execution_count": 3,
   "metadata": {},
   "outputs": [
    {
     "name": "stderr",
     "output_type": "stream",
     "text": [
      "C:\\Users\\uhac013\\Anaconda3\\lib\\site-packages\\sklearn\\neural_network\\_multilayer_perceptron.py:571: ConvergenceWarning: Stochastic Optimizer: Maximum iterations (200) reached and the optimization hasn't converged yet.\n",
      "  % self.max_iter, ConvergenceWarning)\n"
     ]
    },
    {
     "name": "stdout",
     "output_type": "stream",
     "text": [
      "Number of errors: 5067\n",
      "Confusion matrix:\n",
      "[[29272  1000]\n",
      " [ 4067   872]]\n",
      "Time elapsed: 24.75852060317993\n"
     ]
    },
    {
     "name": "stderr",
     "output_type": "stream",
     "text": [
      "C:\\Users\\uhac013\\Anaconda3\\lib\\site-packages\\sklearn\\neural_network\\_multilayer_perceptron.py:571: ConvergenceWarning: Stochastic Optimizer: Maximum iterations (200) reached and the optimization hasn't converged yet.\n",
      "  % self.max_iter, ConvergenceWarning)\n"
     ]
    }
   ],
   "source": [
    "start = time.time()\n",
    "\n",
    "from sklearn.neural_network import MLPClassifier\n",
    "mlp = MLPClassifier(random_state=2021).fit(X_train,y_train)\n",
    "mlp.fit(X_train,y_train)\n",
    "\n",
    "# Evaluating the quality:\n",
    "y_pred = mlp.predict(X_test)\n",
    "print(\"Number of errors:\",np.sum(y_test!=y_pred))\n",
    "\n",
    "print('Confusion matrix:')\n",
    "from sklearn.metrics import confusion_matrix\n",
    "CM = confusion_matrix(y_test, y_pred)\n",
    "print(CM)\n",
    "\n",
    "# finding time elapsed in seconds\n",
    "end = time.time()\n",
    "print(\"Time elapsed:\", end - start)"
   ]
  },
  {
   "cell_type": "markdown",
   "metadata": {},
   "source": [
    "### 1.2 Support vector machines"
   ]
  },
  {
   "cell_type": "markdown",
   "metadata": {},
   "source": [
    "We only use kernel (not linear) SVM."
   ]
  },
  {
   "cell_type": "code",
   "execution_count": 4,
   "metadata": {},
   "outputs": [
    {
     "name": "stdout",
     "output_type": "stream",
     "text": [
      "Number of errors: 4914\n",
      "Confusion matrix:\n",
      "[[30264     8]\n",
      " [ 4906    33]]\n",
      "Time elapsed: 1.7878508567810059\n"
     ]
    }
   ],
   "source": [
    "start = time.time()\n",
    "\n",
    "from sklearn.svm import SVC\n",
    "svm = SVC().fit(X_train, y_train)  # max_iter default=1000\n",
    "\n",
    "# Evaluating the quality:\n",
    "y_pred = svm.predict(X_test)\n",
    "print(\"Number of errors:\",np.sum(y_test!=y_pred))\n",
    "\n",
    "print('Confusion matrix:')\n",
    "CM = confusion_matrix(y_test, y_pred)\n",
    "print(CM)\n",
    "\n",
    "# finding time elapsed in seconds\n",
    "end = time.time()\n",
    "print(\"Time elapsed:\", end - start)"
   ]
  },
  {
   "cell_type": "markdown",
   "metadata": {},
   "source": [
    "### 1.3 Decision trees"
   ]
  },
  {
   "cell_type": "code",
   "execution_count": 5,
   "metadata": {},
   "outputs": [
    {
     "name": "stdout",
     "output_type": "stream",
     "text": [
      "Number of errors: 4931\n",
      "Confusion matrix:\n",
      "[[29467   805]\n",
      " [ 4126   813]]\n",
      "Time elapsed: 0.11230707168579102\n"
     ]
    }
   ],
   "source": [
    "start = time.time()\n",
    "\n",
    "from sklearn.tree import DecisionTreeClassifier\n",
    "tree = DecisionTreeClassifier().fit(X_train, y_train)\n",
    "\n",
    "# Evaluating the quality:\n",
    "y_pred = tree.predict(X_test)\n",
    "print(\"Number of errors:\",np.sum(y_test!=y_pred))\n",
    "\n",
    "print('Confusion matrix:')\n",
    "CM = confusion_matrix(y_test, y_pred)\n",
    "print(CM)\n",
    "\n",
    "# finding time elapsed in seconds\n",
    "end = time.time()\n",
    "print(\"Time elapsed:\", end - start)"
   ]
  },
  {
   "cell_type": "markdown",
   "metadata": {},
   "source": [
    "### 1.4 Ensemble methods"
   ]
  },
  {
   "cell_type": "markdown",
   "metadata": {},
   "source": [
    "First Random Forest."
   ]
  },
  {
   "cell_type": "code",
   "execution_count": 6,
   "metadata": {},
   "outputs": [
    {
     "name": "stdout",
     "output_type": "stream",
     "text": [
      "Number of errors: 4814\n",
      "Confusion matrix:\n",
      "[[30070   202]\n",
      " [ 4612   327]]\n",
      "Time elapsed: 1.0186128616333008\n"
     ]
    }
   ],
   "source": [
    "start = time.time()\n",
    "\n",
    "from sklearn.ensemble import RandomForestClassifier\n",
    "forest = RandomForestClassifier(random_state=2021).fit(X_train, y_train)\n",
    "\n",
    "# Evaluating the quality:\n",
    "y_pred = forest.predict(X_test)\n",
    "print(\"Number of errors:\",np.sum(y_test!=y_pred))\n",
    "\n",
    "from sklearn.metrics import confusion_matrix\n",
    "print('Confusion matrix:')\n",
    "CM = confusion_matrix(y_test, y_pred)\n",
    "print(CM)\n",
    "\n",
    "# finding time elapsed in seconds\n",
    "end = time.time()\n",
    "print(\"Time elapsed:\", end - start)"
   ]
  },
  {
   "cell_type": "markdown",
   "metadata": {},
   "source": [
    "Next Gradient Boosting."
   ]
  },
  {
   "cell_type": "code",
   "execution_count": 7,
   "metadata": {},
   "outputs": [
    {
     "name": "stdout",
     "output_type": "stream",
     "text": [
      "Number of errors: 4782\n",
      "Confusion matrix:\n",
      "[[29966   306]\n",
      " [ 4476   463]]\n",
      "Time elapsed: 1.0605213642120361\n"
     ]
    }
   ],
   "source": [
    "start = time.time()\n",
    "\n",
    "from sklearn.ensemble import GradientBoostingClassifier\n",
    "gb = GradientBoostingClassifier(random_state=2021).fit(X_train, y_train)\n",
    "\n",
    "# Evaluating the quality:\n",
    "y_pred = gb.predict(X_test)\n",
    "print(\"Number of errors:\",np.sum(y_test!=y_pred))\n",
    "\n",
    "from sklearn.metrics import confusion_matrix\n",
    "print('Confusion matrix:')\n",
    "CM = confusion_matrix(y_test, y_pred)\n",
    "print(CM)\n",
    "\n",
    "# finding time elapsed in seconds\n",
    "end = time.time()\n",
    "print(\"Time elapsed:\", end - start)"
   ]
  },
  {
   "cell_type": "markdown",
   "metadata": {},
   "source": [
    "### 1.5 Naive Bayes"
   ]
  },
  {
   "cell_type": "code",
   "execution_count": 8,
   "metadata": {},
   "outputs": [
    {
     "name": "stdout",
     "output_type": "stream",
     "text": [
      "Number of errors: 9504\n",
      "Confusion matrix:\n",
      "[[23763  6509]\n",
      " [ 2995  1944]]\n",
      "Time elapsed: 0.0767357349395752\n"
     ]
    }
   ],
   "source": [
    "start = time.time()\n",
    "\n",
    "from sklearn.naive_bayes import GaussianNB\n",
    "nb = GaussianNB().fit(X_train, y_train)\n",
    "\n",
    "# Evaluating the quality:\n",
    "y_pred = nb.predict(X_test)\n",
    "print(\"Number of errors:\",np.sum(y_test!=y_pred))\n",
    "\n",
    "from sklearn.metrics import confusion_matrix\n",
    "print('Confusion matrix:')\n",
    "CM = confusion_matrix(y_test, y_pred)\n",
    "print(CM)\n",
    "\n",
    "# finding time elapsed in seconds\n",
    "end = time.time()\n",
    "print(\"Time elapsed:\", end - start)"
   ]
  },
  {
   "cell_type": "markdown",
   "metadata": {},
   "source": [
    "### 1.6 Logistic regression"
   ]
  },
  {
   "cell_type": "code",
   "execution_count": 9,
   "metadata": {},
   "outputs": [
    {
     "name": "stdout",
     "output_type": "stream",
     "text": [
      "Number of errors: 7178\n",
      "Confusion matrix:\n",
      "[[26504  3768]\n",
      " [ 3410  1529]]\n",
      "Time elapsed: 0.04736495018005371\n"
     ]
    }
   ],
   "source": [
    "start = time.time()\n",
    "\n",
    "from sklearn.linear_model import LogisticRegression\n",
    "logistic = LogisticRegression(max_iter=1000).fit(X_train, y_train)  # default 100\n",
    "\n",
    "# Evaluating the quality:\n",
    "y_pred = logistic.predict(X_test)\n",
    "print(\"Number of errors:\",np.sum(y_test!=y_pred))\n",
    "\n",
    "print('Confusion matrix:')\n",
    "CM = confusion_matrix(y_test, y_pred)\n",
    "print(CM)\n",
    "\n",
    "# finding time elapsed in seconds\n",
    "end = time.time()\n",
    "print(\"Time elapsed:\", end - start)"
   ]
  },
  {
   "cell_type": "markdown",
   "metadata": {},
   "source": [
    "## 2 The log loss of standard algorithms"
   ]
  },
  {
   "cell_type": "markdown",
   "metadata": {},
   "source": [
    "We need to modify the log loss function, as in scikit-learn (but for a different $\\epsilon$).\n",
    "Let us also define the Bernoulli distribution."
   ]
  },
  {
   "cell_type": "code",
   "execution_count": 10,
   "metadata": {},
   "outputs": [],
   "source": [
    "epsilon = 10**(-2)  # the safety threshold for the log loss function; default in this paper: 10**(-2)\n",
    "def truncate(p):\n",
    "  if p<epsilon:\n",
    "    return epsilon\n",
    "  else:\n",
    "    if p>1-epsilon:\n",
    "      return 1-epsilon\n",
    "    else:\n",
    "      return p\n",
    "# The Bernoulli distribution:\n",
    "def Bern(p,y):  # y is 0 or 1\n",
    "  if y==1:\n",
    "    return p\n",
    "  else:\n",
    "    return 1-p"
   ]
  },
  {
   "cell_type": "markdown",
   "metadata": {},
   "source": [
    "First we test Neural Nets."
   ]
  },
  {
   "cell_type": "code",
   "execution_count": 11,
   "metadata": {},
   "outputs": [
    {
     "name": "stderr",
     "output_type": "stream",
     "text": [
      "C:\\Users\\uhac013\\Anaconda3\\lib\\site-packages\\sklearn\\neural_network\\_multilayer_perceptron.py:571: ConvergenceWarning: Stochastic Optimizer: Maximum iterations (200) reached and the optimization hasn't converged yet.\n",
      "  % self.max_iter, ConvergenceWarning)\n"
     ]
    },
    {
     "name": "stdout",
     "output_type": "stream",
     "text": [
      "Number of errors: 5067 out of 35211\n",
      "32993.25230096034 with 0 infinities; modified loss: 18451.99780684878\n"
     ]
    }
   ],
   "source": [
    "from sklearn.neural_network import MLPClassifier\n",
    "mlp = MLPClassifier(random_state=2021).fit(X_train,y_train)\n",
    "\n",
    "# Evaluating the quality:\n",
    "y_pred = mlp.predict(X_test)\n",
    "print(\"Number of errors:\",np.sum(y_test!=y_pred),'out of',y_test.size)\n",
    "\n",
    "p_pred = mlp.predict_proba(X_test)[:,1]  # probability of 1\n",
    "\n",
    "cum_loss = 0  # initialization of the loss\n",
    "num_infty = 0 # initialization of the number of infinities\n",
    "mod_cum_loss = 0 # initialization of the modified loss\n",
    "for n in range(N_test):\n",
    "  predicted = Bern(p_pred[n],y_test[n])\n",
    "  if predicted==0:\n",
    "    num_infty += 1\n",
    "  else:\n",
    "    cum_loss += -np.log(predicted)\n",
    "  mod_cum_loss += -np.log(truncate(predicted))\n",
    "print(cum_loss,\"with\",num_infty,\"infinities; modified loss:\",mod_cum_loss)"
   ]
  },
  {
   "cell_type": "markdown",
   "metadata": {},
   "source": [
    "Next SVM."
   ]
  },
  {
   "cell_type": "code",
   "execution_count": 12,
   "metadata": {},
   "outputs": [
    {
     "name": "stdout",
     "output_type": "stream",
     "text": [
      "Number of errors: 4914 out of 35211\n",
      "14321.893711711075 with 0 infinities; modified loss: 14321.88000013361\n"
     ]
    }
   ],
   "source": [
    "from sklearn.svm import SVC\n",
    "svm = SVC(probability=True).fit(X_train, y_train)  # max_iter default=1000\n",
    "\n",
    "# Evaluating the quality:\n",
    "y_pred = svm.predict(X_test)\n",
    "print(\"Number of errors:\",np.sum(y_test!=y_pred),'out of',y_test.size)\n",
    "\n",
    "p_pred = svm.predict_proba(X_test)[:,1]  # probability of 1\n",
    "\n",
    "cum_loss = 0  # initialization of the loss\n",
    "num_infty = 0 # initialization of the number of infinities\n",
    "mod_cum_loss = 0 # initialization of the modified loss\n",
    "for n in range(N_test):\n",
    "  predicted = Bern(p_pred[n],y_test[n])\n",
    "  if predicted==0:\n",
    "    num_infty += 1\n",
    "  else:\n",
    "    cum_loss += -np.log(predicted)\n",
    "  mod_cum_loss += -np.log(truncate(predicted))\n",
    "print(cum_loss,\"with\",num_infty,\"infinities; modified loss:\",mod_cum_loss)"
   ]
  },
  {
   "cell_type": "markdown",
   "metadata": {},
   "source": [
    "Next Decision Trees."
   ]
  },
  {
   "cell_type": "code",
   "execution_count": 13,
   "metadata": {},
   "outputs": [
    {
     "name": "stdout",
     "output_type": "stream",
     "text": [
      "Number of errors: 4939 out of 35211\n",
      "0.0 with 4939 infinities; modified loss: 23049.1793155496\n"
     ]
    }
   ],
   "source": [
    "from sklearn.tree import DecisionTreeClassifier\n",
    "tree = DecisionTreeClassifier().fit(X_train, y_train)\n",
    "\n",
    "# Evaluating the quality:\n",
    "y_pred = tree.predict(X_test)\n",
    "print(\"Number of errors:\",np.sum(y_test!=y_pred),'out of',y_test.size)\n",
    "\n",
    "p_pred = tree.predict_proba(X_test)[:,1]  # probability of 1\n",
    "\n",
    "cum_loss = 0  # initialization of the loss\n",
    "num_infty = 0 # initialization of the number of infinities\n",
    "mod_cum_loss = 0 # initialization of the modified loss\n",
    "for n in range(N_test):\n",
    "  predicted = Bern(p_pred[n],y_test[n])\n",
    "  if predicted==0:\n",
    "    num_infty += 1\n",
    "  else:\n",
    "    cum_loss += -np.log(predicted)\n",
    "  mod_cum_loss += -np.log(truncate(predicted))\n",
    "print(cum_loss,\"with\",num_infty,\"infinities; modified loss:\",mod_cum_loss)"
   ]
  },
  {
   "cell_type": "markdown",
   "metadata": {},
   "source": [
    "Next Gradient Boosting."
   ]
  },
  {
   "cell_type": "code",
   "execution_count": 14,
   "metadata": {},
   "outputs": [
    {
     "name": "stdout",
     "output_type": "stream",
     "text": [
      "Number of errors: 4782 out of 35211\n",
      "21459.86884987374 with 0 infinities; modified loss: 16788.19924228183\n",
      "Time elapsed: 1.2379822731018066\n"
     ]
    }
   ],
   "source": [
    "start = time.time()\n",
    "\n",
    "from sklearn.ensemble import GradientBoostingClassifier\n",
    "gb = GradientBoostingClassifier(random_state=2021).fit(X_train, y_train)  # default: n_estimators=100\n",
    "\n",
    "# Evaluating the quality:\n",
    "y_pred = gb.predict(X_test)\n",
    "print(\"Number of errors:\",np.sum(y_test!=y_pred),'out of',y_test.size)\n",
    "\n",
    "p_pred = gb.predict_proba(X_test)[:,1]  # probability of 1\n",
    "\n",
    "cum_loss = 0  # initialization of the loss\n",
    "num_infty = 0 # initialization of the number of infinities\n",
    "mod_cum_loss = 0 # initialization of the modified loss\n",
    "for n in range(N_test):\n",
    "  predicted = Bern(p_pred[n],y_test[n])\n",
    "  if predicted==0:\n",
    "    num_infty += 1\n",
    "  else:\n",
    "    cum_loss += -np.log(predicted)\n",
    "  mod_cum_loss += -np.log(truncate(predicted))\n",
    "print(cum_loss,\"with\",num_infty,\"infinities; modified loss:\",mod_cum_loss)\n",
    "\n",
    "# finding time elapsed in seconds\n",
    "end = time.time()\n",
    "print(\"Time elapsed:\", end - start)"
   ]
  },
  {
   "cell_type": "markdown",
   "metadata": {},
   "source": [
    "Next Naive Bayes."
   ]
  },
  {
   "cell_type": "code",
   "execution_count": 15,
   "metadata": {},
   "outputs": [
    {
     "name": "stdout",
     "output_type": "stream",
     "text": [
      "Number of errors: 9504 out of 35211\n",
      "29895.174437170135 with 185 infinities; modified loss: 27682.466500516854\n",
      "9504 errors\n",
      "Time elapsed: 0.2739260196685791\n"
     ]
    }
   ],
   "source": [
    "start = time.time()\n",
    "\n",
    "from sklearn.naive_bayes import GaussianNB\n",
    "nb = GaussianNB().fit(X_train,y_train)\n",
    "\n",
    "# Evaluating the quality:\n",
    "y_pred = nb.predict(X_test)\n",
    "print(\"Number of errors:\",np.sum(y_test!=y_pred),'out of',y_test.size)\n",
    "\n",
    "p_pred = nb.predict_proba(X_test)[:,1]  # probability of 1\n",
    "\n",
    "cum_loss = 0  # initialization of the loss\n",
    "num_infty = 0 # initialization of the number of infinities\n",
    "mod_cum_loss = 0 # initialization of the modified loss\n",
    "num_errors = 0   # initialization of the number of errors\n",
    "for n in range(N_test):\n",
    "  predicted = Bern(p_pred[n],y_test[n])\n",
    "  if predicted==0:\n",
    "    num_infty += 1\n",
    "  else:\n",
    "    cum_loss += -np.log(predicted)\n",
    "  mod_cum_loss += -np.log(truncate(predicted))\n",
    "  if predicted < 0.5:\n",
    "    num_errors += 1\n",
    "  if predicted == 0.5:\n",
    "    print('Exactly 0.5 predicted!')\n",
    "    if y_test[n]==1:\n",
    "      num_errors += 1\n",
    "print(cum_loss,\"with\",num_infty,\"infinities; modified loss:\",mod_cum_loss)\n",
    "print(num_errors,\"errors\")\n",
    "\n",
    "# finding time elapsed in seconds\n",
    "end = time.time()\n",
    "print(\"Time elapsed:\", end - start)"
   ]
  },
  {
   "cell_type": "markdown",
   "metadata": {},
   "source": [
    "Next, Logistic Regression."
   ]
  },
  {
   "cell_type": "code",
   "execution_count": 16,
   "metadata": {},
   "outputs": [
    {
     "name": "stdout",
     "output_type": "stream",
     "text": [
      "Number of errors: 7178 out of 35211\n",
      "21336.808458947806 with 0 infinities; modified loss: 19599.229887253714\n",
      "Time elapsed: 0.3633239269256592\n"
     ]
    }
   ],
   "source": [
    "start = time.time()\n",
    "\n",
    "from sklearn.linear_model import LogisticRegression\n",
    "logistic = LogisticRegression(random_state=2021).fit(X_train, y_train)\n",
    "\n",
    "# Evaluating the quality:\n",
    "y_pred = logistic.predict(X_test)\n",
    "print(\"Number of errors:\",np.sum(y_test!=y_pred),'out of',y_test.size)\n",
    "\n",
    "p_pred = logistic.predict_proba(X_test)[:,1]  # probability of 1\n",
    "\n",
    "cum_loss = 0  # initialization of the loss\n",
    "num_infty = 0 # initialization of the number of infinities\n",
    "mod_cum_loss = 0 # initialization of the modified loss\n",
    "for n in range(N_test):\n",
    "  predicted = Bern(p_pred[n],y_test[n])\n",
    "  if predicted==0:\n",
    "    num_infty += 1\n",
    "  else:\n",
    "    cum_loss += -np.log(predicted)\n",
    "  mod_cum_loss += -np.log(truncate(predicted))\n",
    "print(cum_loss,\"with\",num_infty,\"infinities; modified loss:\",mod_cum_loss)\n",
    "\n",
    "# finding time elapsed in seconds\n",
    "end = time.time()\n",
    "print(\"Time elapsed:\", end - start)"
   ]
  },
  {
   "cell_type": "markdown",
   "metadata": {},
   "source": [
    "Finally, Random Forest."
   ]
  },
  {
   "cell_type": "code",
   "execution_count": 17,
   "metadata": {},
   "outputs": [
    {
     "name": "stdout",
     "output_type": "stream",
     "text": [
      "Number of errors: 4814 out of 35211\n",
      "4130.607630292967 with 1492 infinities; modified loss: 7185.116696764476\n",
      "Time elapsed: 1.7349863052368164\n"
     ]
    }
   ],
   "source": [
    "start = time.time()\n",
    "\n",
    "from sklearn.ensemble import RandomForestClassifier\n",
    "forest = RandomForestClassifier(random_state=2021).fit(X_train, y_train)\n",
    "# forest = RandomForestClassifier(random_state=2021,n_estimators=100).fit(X_train, y_train)  # default: n_estimators=100\n",
    "\n",
    "# Evaluating the quality:\n",
    "y_pred = forest.predict(X_test)\n",
    "print(\"Number of errors:\",np.sum(y_test!=y_pred),'out of',y_test.size)\n",
    "\n",
    "p_pred = forest.predict_proba(X_test)[:,1]  # probability of 1\n",
    "\n",
    "cum_loss = 0  # initialization of the loss\n",
    "num_infty = 0 # initialization of the number of infinities\n",
    "mod_cum_loss = 0 # initialization of the modified loss\n",
    "for n in range(N_test):\n",
    "  predicted = Bern(p_pred[n],y_test[n])\n",
    "  if predicted==0:\n",
    "    num_infty += 1\n",
    "  else:\n",
    "    cum_loss += -np.log10(predicted)\n",
    "  mod_cum_loss += -np.log10(truncate(predicted))\n",
    "print(cum_loss,\"with\",num_infty,\"infinities; modified loss:\",mod_cum_loss)\n",
    "\n",
    "# finding time elapsed in seconds\n",
    "end = time.time()\n",
    "print(\"Time elapsed:\", end - start)"
   ]
  },
  {
   "cell_type": "markdown",
   "metadata": {},
   "source": [
    "## 3 Choosing the calibrating functions"
   ]
  },
  {
   "cell_type": "markdown",
   "metadata": {},
   "source": [
    "The first option is the quadratic calibrating functions.\n",
    "It is used in the suplementary material only."
   ]
  },
  {
   "cell_type": "code",
   "execution_count": 18,
   "metadata": {},
   "outputs": [],
   "source": [
    "# The quadratic calibrator:\n",
    "def quad_cal(p,theta):\n",
    "  return p + theta*p*(1-p)\n",
    "\n",
    "# My family of calibrators:\n",
    "Ncal = 5  # the number of calibrators\n",
    "def my_cal(p,k):\n",
    "  if k==0:\n",
    "    return quad_cal(p,0)\n",
    "  if k==1:\n",
    "    return quad_cal(p,1)\n",
    "  if k==2:\n",
    "    return quad_cal(p,-1)\n",
    "  if k==3:\n",
    "    return quad_cal(p,0.5)\n",
    "  if k==4:\n",
    "    return quad_cal(p,-0.5)\n",
    "  else:\n",
    "    print(\"my_cal failure\")"
   ]
  },
  {
   "cell_type": "markdown",
   "metadata": {},
   "source": [
    "The other option used in the paper is Cox's family of calibrating functions."
   ]
  },
  {
   "cell_type": "code",
   "execution_count": 19,
   "metadata": {},
   "outputs": [],
   "source": [
    "alphas = [0, 1, -1]  # make sure to start from 0 (the neutral value)\n",
    "betas = [1, 0.5, 2]  # make sure to start from 1 (the neutral value)\n",
    "Ncal_alpha = len(alphas)\n",
    "Ncal_beta = len(betas) # the number of beta calibrators\n",
    "Ncal = Ncal_alpha * Ncal_beta\n",
    "\n",
    "def Cox(p,alpha,beta):\n",
    "  return p**beta*np.exp(alpha) / (p**beta*np.exp(alpha) + (1-p)**beta)\n",
    "\n",
    "def set_theta(index):  # finding theta=(alpha,beta) from its index\n",
    "  result = np.empty(2)  # initializing the result\n",
    "  current_index = index\n",
    "  result[0] = current_index % Ncal_alpha  # alpha is at index 0\n",
    "  current_index = current_index // Ncal_alpha\n",
    "  result[1] = current_index % Ncal_beta  # beta is at index 1\n",
    "  current_index = current_index // Ncal_beta\n",
    "  if current_index!=0:\n",
    "    print('Error')\n",
    "  return result\n",
    "\n",
    "def my_cal(p,k):\n",
    "  theta = set_theta(k)\n",
    "  return Cox(p,theta[0],theta[1])"
   ]
  },
  {
   "cell_type": "markdown",
   "metadata": {},
   "source": [
    "## 4 Our test martingales"
   ]
  },
  {
   "cell_type": "markdown",
   "metadata": {},
   "source": [
    "The following cell implements the Composite Jumper (CJ) martingale (Figure 2).\n",
    "It can also be used for drawing several Simple Jumper (SJ) martingales\n",
    "(left panel of Figure S.5 in the supplementary material)."
   ]
  },
  {
   "cell_type": "code",
   "execution_count": 20,
   "metadata": {},
   "outputs": [
    {
     "data": {
      "image/png": "[encoded data removed]",
      "text/plain": [
       "<Figure size 432x288 with 1 Axes>"
      ]
     },
     "metadata": {
      "needs_background": "light"
     },
     "output_type": "display_data"
    },
    {
     "name": "stdout",
     "output_type": "stream",
     "text": [
      "Final values of SJs on the log scale: [3208.03471523 3232.52354346 3210.98370631]\n",
      "Final value of CJ on the log scale: 3231.7453922057125\n",
      "Time elapsed: 12.256955623626709\n"
     ]
    }
   ],
   "source": [
    "import time   # for timing\n",
    "start = time.time()\n",
    "\n",
    "# Parameters\n",
    "# pi = 0.5  # assumed but not used explicitly\n",
    "Jrates = [10**(-2),10**(-3),10**(-4)]  # the jumping rates\n",
    "NJ = len(Jrates)\n",
    "\n",
    "# The calibrators were defined in the previous cells.\n",
    "\n",
    "# Arithmetic average of numbers given on the log10 scale:\n",
    "def log_mean(x):\n",
    "  m = np.max(x)\n",
    "  return m+np.log10(np.mean(np.exp(np.log(10)*(x-m))))\n",
    "\n",
    "# initializing the SJ and CJ test martingales on the log scale (including the initial value of 0):\n",
    "log_SJ_martingale = np.zeros((NJ,(N_test+1)))\n",
    "log_CJ_martingale = np.zeros(N_test+1)\n",
    "\n",
    "# Processing the dataset\n",
    "for J_index in range(NJ):  # going over all jumping rates\n",
    "  Jrate = Jrates[J_index]  # the current jumping rate\n",
    "  MartCap = np.zeros(Ncal)  # the normalized capital in each state (after normalization at the previous step)\n",
    "  MartCap[0] = 1  # the initial distribution for each jumping rate is concentrated at 0\n",
    "  for n in range(N_test):  # going over the test set\n",
    "    # Jump mixing starts\n",
    "    Capital = np.sum(MartCap[:])  # redundant; we know that Capital = 1\n",
    "    MartCap[:] = (1-Jrate)*MartCap[:] + (Jrate/Ncal)*Capital\n",
    "    # Jump mixing ends\n",
    "    ppp = truncate(p_pred[n])   # base prediction\n",
    "    for k in range(Ncal):\n",
    "      new_ppp = my_cal(ppp,k)    # our new prediction\n",
    "      # at this point we know that Bern(ppp,y_test[n])!=0\n",
    "      MartCap[k] *= Bern(new_ppp,y_test[n]) / Bern(ppp,y_test[n])\n",
    "    increase = np.sum(MartCap[:])   # relative increase in our capital\n",
    "    log_SJ_martingale[J_index,n+1] = log_SJ_martingale[J_index,n] + np.log10(increase)\n",
    "    MartCap[:] /= increase\n",
    "  # plt.plot(log_SJ_martingale[J_index,:],label='jumping rate: '+str(Jrate))  # for SJ martingales\n",
    "\n",
    "for n in range(N_test+1):\n",
    "  log_CJ_martingale[n] = log_mean([0,log_mean(log_SJ_martingale[:,n])])   # 1 becomes 0 on the log scale\n",
    "\n",
    "plt.plot(log_CJ_martingale,c='b')   # for CJ martingale\n",
    "plt.ylabel('log10 test martingale')  # choose singular or plural\n",
    "# plt.legend()  # for SJ martingales\n",
    "# plt.savefig(\"BM_SJs.pdf\", bbox_inches='tight')\n",
    "plt.show()\n",
    "\n",
    "# Interesting values:\n",
    "print(\"Final values of SJs on the log scale:\", log_SJ_martingale[:,N_test])\n",
    "print(\"Final value of CJ on the log scale:\", log_CJ_martingale[N_test])\n",
    "\n",
    "# finding time elapsed in seconds\n",
    "end = time.time()\n",
    "print(\"Time elapsed:\", end - start)"
   ]
  },
  {
   "cell_type": "markdown",
   "metadata": {},
   "source": [
    "## 5 Turning the test martingale into a predictive system"
   ]
  },
  {
   "cell_type": "markdown",
   "metadata": {},
   "source": [
    "The following cell implements Algorithm 2 with $\\pi=0$ and for a fixed jumping rate J.\n",
    "This is used in the supplementary material (Figure S.6)."
   ]
  },
  {
   "cell_type": "code",
   "execution_count": 21,
   "metadata": {},
   "outputs": [
    {
     "name": "stdout",
     "output_type": "stream",
     "text": [
      "Base: 4130.607630292967 with 1492 infinities; modified loss: 7185.116696764476\n",
      "Protected: 3974.132990456682 with 0 infinities; modified loss: 3979.4268206598445\n",
      "Time elapsed: 4.957041501998901\n"
     ]
    }
   ],
   "source": [
    "import time   # for timing\n",
    "start = time.time()\n",
    "\n",
    "# Parameters\n",
    "Jrate = 10**(-4)  # the jumping rate; for 10**(-2) and 10**(-4) in the paper\n",
    "\n",
    "# Calibrators were defined in Section 3.\n",
    "\n",
    "# initializing the predicted probabilities:\n",
    "p_prime = np.empty(N_test)\n",
    "\n",
    "# Processing the dataset\n",
    "weight = np.zeros(Ncal)  # the weight of each state\n",
    "weight[0] = 1\n",
    "for n in range(N_test):\n",
    "  # Jump mixing starts\n",
    "  Capital = np.sum(weight[:])\n",
    "  weight[:] /= Capital  # normalization\n",
    "  weight[:] = (1-Jrate)*weight[:] + Jrate/Ncal\n",
    "  # Jump mixing ends\n",
    "  ppp = truncate(p_pred[n])   # base prediction\n",
    "  new_ppp = 0    # initializing the new prediction\n",
    "  for k in range(Ncal):\n",
    "    cal_ppp_k = my_cal(ppp,k)  # prediction calibrated by the k-th calibrator\n",
    "    new_ppp += cal_ppp_k * weight[k]  # accumulating predictions calibrated by the calibrators\n",
    "  p_prime[n] = new_ppp\n",
    "  for k in range(Ncal):\n",
    "    cal_ppp_k = my_cal(ppp,k)  # prediction calibrated by the k-th calibrator\n",
    "    weight[k] *= Bern(cal_ppp_k,y_test[n])\n",
    "\n",
    "cum_loss = 0  # initialization of the loss for the base predictive system\n",
    "num_infty = 0 # initialization of the number of infinities\n",
    "mod_cum_loss = 0 # initialization of the modified loss\n",
    "for n in range(N_test):\n",
    "  predicted = Bern(p_pred[n],y_test[n])\n",
    "  if predicted==0:\n",
    "    num_infty += 1\n",
    "  else:\n",
    "    cum_loss += -np.log10(predicted)\n",
    "  mod_cum_loss += -np.log10(truncate(predicted))\n",
    "print(\"Base:\",cum_loss,\"with\",num_infty,\"infinities; modified loss:\",mod_cum_loss)\n",
    "\n",
    "cum_loss = 0  # initialization of the loss for the protected predictive system\n",
    "num_infty = 0 # initialization of the number of infinities\n",
    "mod_cum_loss = 0 # initialization of the modified loss (never used)\n",
    "for n in range(N_test):\n",
    "  predicted = Bern(p_prime[n],y_test[n])\n",
    "  if predicted==0:\n",
    "    num_infty += 1\n",
    "  else:\n",
    "    cum_loss += -np.log10(predicted)\n",
    "  mod_cum_loss += -np.log10(truncate(predicted))\n",
    "print(\"Protected:\",cum_loss,\"with\",num_infty,\"infinities; modified loss:\",mod_cum_loss)\n",
    "\n",
    "# finding time elapsed in seconds\n",
    "end = time.time()\n",
    "print(\"Time elapsed:\", end - start)"
   ]
  },
  {
   "cell_type": "markdown",
   "metadata": {},
   "source": [
    "Next we implement Algorithm 2 (Composite Jumper predictor) for $\\pi=0.5$ and for a range of jumping rates."
   ]
  },
  {
   "cell_type": "code",
   "execution_count": 22,
   "metadata": {},
   "outputs": [
    {
     "name": "stdout",
     "output_type": "stream",
     "text": [
      "Exactly 0.5 predicted by base!\n",
      "Exactly 0.5 predicted by base!\n",
      "Exactly 0.5 predicted by base!\n",
      "Exactly 0.5 predicted by base!\n",
      "Exactly 0.5 predicted by base!\n",
      "Exactly 0.5 predicted by base!\n",
      "Exactly 0.5 predicted by base!\n",
      "Exactly 0.5 predicted by base!\n",
      "Exactly 0.5 predicted by base!\n",
      "Exactly 0.5 predicted by base!\n",
      "Exactly 0.5 predicted by base!\n",
      "Exactly 0.5 predicted by base!\n",
      "Exactly 0.5 predicted by base!\n",
      "Exactly 0.5 predicted by base!\n",
      "Exactly 0.5 predicted by base!\n",
      "Exactly 0.5 predicted by base!\n",
      "Exactly 0.5 predicted by base!\n",
      "Exactly 0.5 predicted by base!\n",
      "Exactly 0.5 predicted by base!\n",
      "Exactly 0.5 predicted by base!\n",
      "Exactly 0.5 predicted by base!\n",
      "Exactly 0.5 predicted by base!\n",
      "Exactly 0.5 predicted by base!\n",
      "Exactly 0.5 predicted by base!\n",
      "Exactly 0.5 predicted by base!\n",
      "Exactly 0.5 predicted by base!\n",
      "Exactly 0.5 predicted by base!\n",
      "Exactly 0.5 predicted by base!\n",
      "Exactly 0.5 predicted by base!\n",
      "Exactly 0.5 predicted by base!\n",
      "Exactly 0.5 predicted by base!\n",
      "Exactly 0.5 predicted by base!\n",
      "Exactly 0.5 predicted by base!\n",
      "Exactly 0.5 predicted by base!\n",
      "Exactly 0.5 predicted by base!\n",
      "Exactly 0.5 predicted by base!\n",
      "Exactly 0.5 predicted by base!\n",
      "Exactly 0.5 predicted by base!\n",
      "Exactly 0.5 predicted by base!\n",
      "Exactly 0.5 predicted by base!\n",
      "Exactly 0.5 predicted by base!\n",
      "Exactly 0.5 predicted by base!\n",
      "Exactly 0.5 predicted by base!\n",
      "Exactly 0.5 predicted by base!\n",
      "Exactly 0.5 predicted by base!\n",
      "Exactly 0.5 predicted by base!\n",
      "Exactly 0.5 predicted by base!\n",
      "Exactly 0.5 predicted by base!\n",
      "Exactly 0.5 predicted by base!\n",
      "Exactly 0.5 predicted by base!\n",
      "Exactly 0.5 predicted by base!\n",
      "Exactly 0.5 predicted by base!\n",
      "Exactly 0.5 predicted by base!\n",
      "Exactly 0.5 predicted by base!\n",
      "Exactly 0.5 predicted by base!\n",
      "Exactly 0.5 predicted by base!\n",
      "Base log10 loss: 4130.607630292967 with 1492 infinities; modified loss: 7185.116696764476\n",
      "Base: 4814 errors\n",
      "Base AUC: 0.6916787790697674\n",
      "Protected log10 loss: 3953.3713045582786 with 0 infinities; modified loss: 3955.2572287587614\n",
      "Protected: 4433 errors\n",
      "Protected AUC: 0.8983407628565326\n",
      "Time elapsed: 7.606526613235474\n"
     ]
    }
   ],
   "source": [
    "import time   # for timing\n",
    "start = time.time()\n",
    "\n",
    "# Parameters\n",
    "pi = 0.5  # the prior weight of the passive elementary predictor\n",
    "Jrates = [10**(-2),10**(-3),10**(-4)]  # the jumping rates; canonical: 0.01, 0.001, 0.0001\n",
    "NJ = len(Jrates)\n",
    "\n",
    "# Calibrators were defined in Section 3.\n",
    "\n",
    "# initializing the predicted probabilities:\n",
    "p_prime = np.empty(N_test)\n",
    "\n",
    "# Processing the dataset\n",
    "P_weight = pi    # amount set aside (passive weight)\n",
    "A_weight = np.zeros((NJ,Ncal))  # the weight of each active state\n",
    "A_weight[:,0] = (1-pi)/NJ    # initial weights\n",
    "for n in range(N_test):  # going through all test observations\n",
    "  # Jump mixing starts\n",
    "  for J_index in range(NJ):\n",
    "    Capital = np.sum(A_weight[J_index,:])  # active capital for this jumping rate\n",
    "    Jrate = Jrates[J_index]\n",
    "    A_weight[J_index,:] = (1-Jrate)*A_weight[J_index,:] + Capital*Jrate/Ncal\n",
    "  # Jump mixing ends\n",
    "  ppp = truncate(p_pred[n])   # base prediction\n",
    "  new_ppp = ppp*P_weight    # initializing the new prediction to its passive component\n",
    "  for k in range(Ncal):\n",
    "    cal_ppp_k = my_cal(ppp,k)  # prediction calibrated by the k-th calibrator\n",
    "    for J_index in range(NJ):\n",
    "      new_ppp += cal_ppp_k * A_weight[J_index,k]  # accumulating predictions calibrated by the calibrators\n",
    "  p_prime[n] = new_ppp   # my prediction\n",
    "  P_weight *= Bern(ppp,y_test[n])  # updating the passive capital\n",
    "  for k in range(Ncal):\n",
    "    cal_ppp_k = my_cal(ppp,k)  # prediction calibrated by the k-th calibrator\n",
    "    for J_index in range(NJ):\n",
    "      A_weight[J_index,k] *= Bern(cal_ppp_k,y_test[n])  # updating the active capital\n",
    "  Capital = P_weight + np.sum(A_weight[:,:])  # the overall weight\n",
    "  P_weight /= Capital  # normalization of the passive weight\n",
    "  A_weight[:,:] /= Capital  # normalization of the active weights\n",
    "\n",
    "from sklearn import metrics\n",
    "\n",
    "cum_loss = 0  # initialization of the loss of the base predictive system\n",
    "num_infty = 0 # initialization of the number of infinities\n",
    "mod_cum_loss = 0 # initialization of the modified loss\n",
    "num_errors = 0   # initialization of the number of errors\n",
    "for n in range(N_test):\n",
    "  predicted = Bern(p_pred[n],y_test[n])\n",
    "  if predicted==0:\n",
    "    num_infty += 1\n",
    "  else:\n",
    "    cum_loss += -np.log10(predicted)\n",
    "  mod_cum_loss += -np.log10(truncate(predicted))\n",
    "  if predicted < 0.5:\n",
    "    num_errors += 1\n",
    "  if predicted == 0.5:\n",
    "    print('Exactly 0.5 predicted by base!')\n",
    "    if y_test[n]==1:  # in the case of a tie, I predict 0\n",
    "      num_errors += 1\n",
    "fpr, tpr, thresholds = metrics.roc_curve(y_test, p_pred, pos_label=1)\n",
    "roc_auc = metrics.auc(fpr, tpr)\n",
    "print(\"Base log10 loss:\",cum_loss,\"with\",num_infty,\"infinities; modified loss:\",mod_cum_loss)\n",
    "print(\"Base:\",num_errors,\"errors\")\n",
    "print(\"Base AUC:\",roc_auc)\n",
    "\n",
    "cum_loss = 0  # initialization of the loss of the protected predictive system\n",
    "num_infty = 0 # initialization of the number of infinities\n",
    "mod_cum_loss = 0 # initialization of the modified loss (not used)\n",
    "num_errors = 0   # initialization of the number of errors\n",
    "for n in range(N_test):\n",
    "  predicted = Bern(p_prime[n],y_test[n])\n",
    "  if predicted==0:\n",
    "    num_infty += 1\n",
    "  else:\n",
    "    cum_loss += -np.log10(predicted)\n",
    "  mod_cum_loss += -np.log10(truncate(predicted))\n",
    "  if predicted < 0.5:\n",
    "    num_errors += 1\n",
    "  if predicted == 0.5:\n",
    "    print('Exactly 0.5 predicted by protected!')\n",
    "    if y_test[n]==1:  # in the case of a tie, I predict 0\n",
    "      num_errors += 1\n",
    "fpr, tpr, thresholds = metrics.roc_curve(y_test, p_prime, pos_label=1)\n",
    "roc_auc = metrics.auc(fpr, tpr)\n",
    "print(\"Protected log10 loss:\",cum_loss,\"with\",num_infty,\"infinities; modified loss:\",mod_cum_loss)\n",
    "print(\"Protected:\",num_errors,\"errors\")\n",
    "print(\"Protected AUC:\",roc_auc)\n",
    "\n",
    "# finding time elapsed in seconds\n",
    "end = time.time()\n",
    "print(\"Time elapsed:\", end - start)"
   ]
  },
  {
   "cell_type": "markdown",
   "metadata": {},
   "source": [
    "Now let us draw the ROC curves."
   ]
  },
  {
   "cell_type": "code",
   "execution_count": 23,
   "metadata": {},
   "outputs": [
    {
     "data": {
      "image/png": "[encoded data removed]",
      "text/plain": [
       "<Figure size 432x288 with 1 Axes>"
      ]
     },
     "metadata": {
      "needs_background": "light"
     },
     "output_type": "display_data"
    }
   ],
   "source": [
    "from sklearn import metrics\n",
    "import numpy as np\n",
    "import matplotlib.pyplot as plt\n",
    "\n",
    "plt.figure(0).clf()\n",
    "\n",
    "fpr, tpr, thresh = metrics.roc_curve(y_test, p_pred, pos_label=1)\n",
    "auc = metrics.roc_auc_score(y_test, p_pred)\n",
    "plt.plot(fpr,tpr,label=\"Random Forest, auc=\"+str(np.around(auc,decimals=3)))\n",
    "\n",
    "fpr, tpr, thresh = metrics.roc_curve(y_test, p_prime, pos_label=1)\n",
    "auc = metrics.roc_auc_score(y_test, p_prime)\n",
    "plt.plot(fpr,tpr,label=\"protected Random Forest, auc=\"+str(np.around(auc,decimals=3)))\n",
    "plt.legend()\n",
    "# plt.savefig(\"BM_ROC.pdf\", bbox_inches='tight')\n",
    "plt.show()"
   ]
  },
  {
   "cell_type": "markdown",
   "metadata": {},
   "source": [
    "## 6 Prediction with limited feedback"
   ]
  },
  {
   "cell_type": "markdown",
   "metadata": {},
   "source": [
    "Now we assume that feedback is given every $K$th test observation.\n",
    "This is used in Figure 4."
   ]
  },
  {
   "cell_type": "code",
   "execution_count": 24,
   "metadata": {},
   "outputs": [
    {
     "name": "stdout",
     "output_type": "stream",
     "text": [
      "Original: 4130.607630292967 with 1492 infinities; modified loss: 7185.116696764476\n",
      "Protected: 4779.310700268226 with 0 infinities; modified loss: 4779.345854559577\n",
      "Time elapsed: 2.9884426593780518\n"
     ]
    }
   ],
   "source": [
    "import time   # for timing\n",
    "start = time.time()\n",
    "\n",
    "# Parameters\n",
    "pi = 0.5  # the prior weight of the passive elementary predictor\n",
    "Jrates = [10**(-2),10**(-3),10**(-4)]  # the jumping rates\n",
    "K = 100   # how often feedback is given\n",
    "\n",
    "NJ = len(Jrates)\n",
    "\n",
    "# Calibrators were defined in Section 3.\n",
    "\n",
    "# initializing the predicted probabilities:\n",
    "p_prime = np.empty(N_test)\n",
    "\n",
    "# Processing the dataset\n",
    "P_weight = pi    # amount set aside (passive weight)\n",
    "A_weight = np.zeros((NJ,Ncal))  # the weight of each active state\n",
    "A_weight[:,0] = (1-pi)/NJ    # initial weights\n",
    "for n in range(N_test):  # going through all test observations\n",
    "  if n%K==0:   # if n is divisible by K\n",
    "    # Jump mixing starts\n",
    "    for J_index in range(NJ):\n",
    "      Capital = np.sum(A_weight[J_index,:])  # active capital for this jumping rate\n",
    "      Jrate = Jrates[J_index]\n",
    "      A_weight[J_index,:] = (1-Jrate)*A_weight[J_index,:] + Capital*Jrate/Ncal\n",
    "    # Jump mixing ends\n",
    "  ppp = truncate(p_pred[n])   # base prediction\n",
    "  new_ppp = ppp*P_weight    # initializing the new prediction to its passive component\n",
    "  for k in range(Ncal):\n",
    "    cal_ppp_k = my_cal(ppp,k)  # prediction calibrated by the k-th calibrator\n",
    "    for J_index in range(NJ):\n",
    "      new_ppp += cal_ppp_k * A_weight[J_index,k]  # accumulating predictions calibrated by the calibrators\n",
    "  p_prime[n] = new_ppp   # my prediction\n",
    "  if n%K==0:   # if n is divisible by K\n",
    "    P_weight *= Bern(ppp,y_test[n])  # updating the passive capital\n",
    "    for k in range(Ncal):\n",
    "      cal_ppp_k = my_cal(ppp,k)  # prediction calibrated by the k-th calibrator\n",
    "      for J_index in range(NJ):\n",
    "        A_weight[J_index,k] *= Bern(cal_ppp_k,y_test[n])  # updating the active capital\n",
    "    Capital = P_weight + np.sum(A_weight[:,:])  # the overall weight\n",
    "    P_weight /= Capital  # normalization of the passive weight\n",
    "    A_weight[:,:] /= Capital  # normalization of the active weights\n",
    "\n",
    "cum_loss = 0  # initialization of the loss of the base predictive system\n",
    "num_infty = 0 # initialization of the number of infinities\n",
    "mod_cum_loss = 0 # initialization of the modified loss\n",
    "for n in range(N_test):\n",
    "  predicted = Bern(p_pred[n],y_test[n])\n",
    "  if predicted==0:\n",
    "    num_infty += 1\n",
    "  else:\n",
    "    cum_loss += -np.log10(predicted)\n",
    "  mod_cum_loss += -np.log10(truncate(predicted))\n",
    "print(\"Original:\",cum_loss,\"with\",num_infty,\"infinities; modified loss:\",mod_cum_loss)\n",
    "\n",
    "cum_loss = 0  # initialization of the loss of the protected predictive system\n",
    "num_infty = 0 # initialization of the number of infinities\n",
    "mod_cum_loss = 0 # initialization of the modified loss (not used)\n",
    "for n in range(N_test):\n",
    "  predicted = Bern(p_prime[n],y_test[n])\n",
    "  if predicted==0:\n",
    "    num_infty += 1\n",
    "  else:\n",
    "    cum_loss += -np.log10(predicted)\n",
    "  mod_cum_loss += -np.log10(truncate(predicted))\n",
    "print(\"Protected:\",cum_loss,\"with\",num_infty,\"infinities; modified loss:\",mod_cum_loss)\n",
    "\n",
    "# finding time elapsed in seconds\n",
    "end = time.time()\n",
    "print(\"Time elapsed:\", end - start)"
   ]
  },
  {
   "cell_type": "markdown",
   "metadata": {},
   "source": [
    "## 7 Behaviour of the labels"
   ]
  },
  {
   "cell_type": "markdown",
   "metadata": {},
   "source": [
    "Now let us see the moving average of the labels, ignoring the objects.\n",
    "This is for the left panel of Figure S.4 in the supplementary material."
   ]
  },
  {
   "cell_type": "code",
   "execution_count": 25,
   "metadata": {},
   "outputs": [
    {
     "name": "stdout",
     "output_type": "stream",
     "text": [
      "Percentage of successful calls: 0.11698480458295547\n"
     ]
    },
    {
     "data": {
      "image/png": "[encoded data removed]",
      "text/plain": [
       "<Figure size 432x288 with 1 Axes>"
      ]
     },
     "metadata": {
      "needs_background": "light"
     },
     "output_type": "display_data"
    },
    {
     "name": "stdout",
     "output_type": "stream",
     "text": [
      "Time elapsed: 0.9953019618988037\n"
     ]
    }
   ],
   "source": [
    "window = 1000  # how many labels to average\n",
    "\n",
    "import time\n",
    "start = time.time()\n",
    "\n",
    "N_total = bank.data.shape[0]   # the size of the dataset (recomputing)\n",
    "\n",
    "# Other view of the data:\n",
    "y_total = bank.target[0:N_total].astype(int)-1    # vector of all labels (as integers, 0 or 1)\n",
    "\n",
    "# Simulating artificial (ideal) data:\n",
    "percentage = np.mean(y_total)\n",
    "print(\"Percentage of successful calls:\", percentage)\n",
    "rg = np.random.default_rng(2021)\n",
    "y_ideal_raw = rg.random(N_total)  # uniformly distributed random numbers\n",
    "y_ideal = np.empty(N_total)\n",
    "for n in range(N_total):\n",
    "  if y_ideal_raw[n]<percentage:\n",
    "    y_ideal[n] = 1\n",
    "  else:\n",
    "    y_ideal[n] = 0\n",
    "\n",
    "MA_real = np.empty(N_total-window+1)   # initializing the real moving average\n",
    "MA_ideal = np.empty(N_total-window+1)  # initializing the ideal moving average\n",
    "\n",
    "for n in range(N_total-window+1):\n",
    "  MA_real[n] = np.mean(y_total[n:(n+window)])\n",
    "  MA_ideal[n] = np.mean(y_ideal[n:(n+window)])\n",
    "\n",
    "plt.plot(MA_real,c='r',label='real')\n",
    "plt.plot(MA_ideal,c='g',label='ideal')\n",
    "plt.ylabel('moving average')\n",
    "plt.legend()\n",
    "# plt.savefig(\"BM_MA.pdf\", bbox_inches='tight')\n",
    "plt.show()\n",
    "\n",
    "# finding time elapsed in seconds\n",
    "end = time.time()\n",
    "print(\"Time elapsed:\", end - start)"
   ]
  }
 ],
 "metadata": {
  "kernelspec": {
   "display_name": "Python 3",
   "language": "python",
   "name": "python3"
  },
  "language_info": {
   "codemirror_mode": {
    "name": "ipython",
    "version": 3
   },
   "file_extension": ".py",
   "mimetype": "text/x-python",
   "name": "python",
   "nbconvert_exporter": "python",
   "pygments_lexer": "ipython3",
   "version": "3.6.8"
  }
 },
 "nbformat": 4,
 "nbformat_minor": 4
}
