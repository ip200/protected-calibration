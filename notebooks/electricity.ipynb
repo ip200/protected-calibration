{
 "cells": [
  {
   "cell_type": "markdown",
   "metadata": {},
   "source": [
    "# Experiments for online calibration for electricity"
   ]
  },
  {
   "cell_type": "markdown",
   "metadata": {},
   "source": [
    "## 1 Reading the electricity dataset"
   ]
  },
  {
   "cell_type": "markdown",
   "metadata": {},
   "source": [
    "First we will read the dataset.\n",
    "Uncomment the shuffling commands for the supplementary material (Figure S.3)."
   ]
  },
  {
   "cell_type": "code",
   "execution_count": 1,
   "metadata": {},
   "outputs": [
    {
     "name": "stdout",
     "output_type": "stream",
     "text": [
      "Percentage of UP in the training set: 0.4333\n",
      "Percentage of UP in the test set: 0.42206615314907114\n",
      "Time elapsed: 1.5805647373199463\n"
     ]
    }
   ],
   "source": [
    "# Parameters:\n",
    "N_train = 10000  # the size of the training set\n",
    "\n",
    "import time\n",
    "start = time.time()\n",
    "\n",
    "import numpy as np\n",
    "import matplotlib.pyplot as plt\n",
    "\n",
    "from sklearn.datasets import fetch_openml\n",
    "electricity = fetch_openml(name='electricity', version=1)\n",
    "# rg = np.random.default_rng(2021)\n",
    "# rg.shuffle(electricity.data)     # permute the objects\n",
    "N_total = electricity.data.shape[0]   # the size of the dataset\n",
    "N_test = N_total - N_train\n",
    "\n",
    "# Other views of the data:\n",
    "X_train = electricity.data[0:N_train]  # matrix of training objects\n",
    "yy_train = electricity.target[0:N_train]    # vector of training labels (UP or DOWN)\n",
    "X_test = electricity.data[N_train:]   # matrix of test objects\n",
    "yy_test = electricity.target[N_train:]     # vector of test labels (UP or DOWN)\n",
    "\n",
    "# turning the labels into 0 (DOWN) or 1 (UP)\n",
    "y_train = np.empty(N_train)\n",
    "y_test = np.empty(N_test)\n",
    "for i in range(N_train):\n",
    "  if yy_train[i]==\"UP\":\n",
    "    y_train[i] = 1\n",
    "  else:\n",
    "    y_train[i] = 0\n",
    "for i in range(N_test):\n",
    "  if yy_test[i]==\"UP\":\n",
    "    y_test[i] = 1\n",
    "  else:\n",
    "    y_test[i] = 0\n",
    "\n",
    "print(\"Percentage of UP in the training set:\", np.sum(y_train)/N_train)\n",
    "print(\"Percentage of UP in the test set:\", np.sum(y_test)/N_test)\n",
    "\n",
    "# finding time elapsed in seconds\n",
    "end = time.time()\n",
    "print(\"Time elapsed:\", end - start)"
   ]
  },
  {
   "cell_type": "code",
   "execution_count": 2,
   "metadata": {},
   "outputs": [
    {
     "name": "stdout",
     "output_type": "stream",
     "text": [
      "**Author**: M. Harries, J. Gama, A. Bifet  \n",
      "**Source**: [Joao Gama](http://www.inescporto.pt/~jgama/ales/ales_5.html) - 2009  \n",
      "**Please cite**: None  \n",
      "\n",
      "**Electricity** is a widely used dataset described by M. Harries and analyzed by J. Gama (see papers below). This data was collected from the Australian New South Wales Electricity Market. In this market, prices are not fixed and are affected by demand and supply of the market. They are set every five minutes. Electricity transfers to/from the neighboring state of Victoria were done to alleviate fluctuations.\n",
      "\n",
      "The dataset (originally named ELEC2) contains 45,312 instances dated from 7 May 1996 to 5 December 1998. Each example of the dataset refers to a period of 30 minutes, i.e. there are 48 instances for each time period of one day. Each example on the dataset has 5 fields, the day of week, the time stamp, the New South Wales electricity demand, the Victoria electricity demand, the scheduled electricity transfer between states and the class label. The class label identifies the change of the price (UP or DOWN) in New South Wales relative to a moving average of the last 24 hours (and removes the impact of longer term price trends). \n",
      "\n",
      "The data was normalized by A. Bifet.\n",
      "\n",
      "### Attribute information  \n",
      "* Date: date between 7 May 1996 to 5 December 1998. Here normalized between 0 and 1\n",
      "* Day: day of the week (1-7)\n",
      "* Period: time of the measurement (1-48) in half hour intervals over 24 hours. Here normalized between 0 and 1\n",
      "* NSWprice: New South Wales electricity price, normalized between 0 and 1\n",
      "* NSWdemand: New South Wales electricity demand, normalized between 0 and 1\n",
      "* VICprice: Victoria electricity price, normalized between 0 and 1\n",
      "* VICdemand: Victoria electricity demand, normalized between 0 and 1\n",
      "* transfer: scheduled electricity transfer between both states, normalized between 0 and 1\n",
      "\n",
      "### Relevant papers  \n",
      "M. Harries. Splice-2 comparative evaluation: Electricity pricing. Technical report, The University of South Wales, 1999.  \n",
      "J. Gama, P. Medas, G. Castillo, and P. Rodrigues. Learning with drift detection. In SBIA Brazilian Symposium on Artificial Intelligence, pages 286–295, 2004.\n",
      "\n",
      "Downloaded from openml.org.\n"
     ]
    }
   ],
   "source": [
    "print(electricity.DESCR)"
   ]
  },
  {
   "cell_type": "markdown",
   "metadata": {},
   "source": [
    "Now let us normalize the feature by applying StandardScaler.\n",
    "(This does not change the results.)"
   ]
  },
  {
   "cell_type": "code",
   "execution_count": 3,
   "metadata": {},
   "outputs": [],
   "source": [
    "from sklearn.preprocessing import StandardScaler\n",
    "scaler = StandardScaler()\n",
    "scaler.fit(X_train)\n",
    "X_train = scaler.transform(X_train)\n",
    "X_test = scaler.transform(X_test)"
   ]
  },
  {
   "cell_type": "markdown",
   "metadata": {},
   "source": [
    "## 2 Basic preformance for the electricity dataset"
   ]
  },
  {
   "cell_type": "markdown",
   "metadata": {},
   "source": [
    "Let us use the standard prediction algorithms in scikit-learn.\n",
    "\n",
    "In the figures, we use Random Forest for this dataset."
   ]
  },
  {
   "cell_type": "markdown",
   "metadata": {},
   "source": [
    "### 1.1 Neural Nets"
   ]
  },
  {
   "cell_type": "markdown",
   "metadata": {},
   "source": [
    "First Neural Nets."
   ]
  },
  {
   "cell_type": "code",
   "execution_count": 4,
   "metadata": {},
   "outputs": [
    {
     "name": "stderr",
     "output_type": "stream",
     "text": [
      "C:\\Users\\uhac013\\Anaconda3\\lib\\site-packages\\sklearn\\neural_network\\_multilayer_perceptron.py:571: ConvergenceWarning: Stochastic Optimizer: Maximum iterations (200) reached and the optimization hasn't converged yet.\n",
      "  % self.max_iter, ConvergenceWarning)\n"
     ]
    },
    {
     "name": "stdout",
     "output_type": "stream",
     "text": [
      "Number of errors: 14358\n",
      "Confusion matrix:\n",
      "[[20046   362]\n",
      " [13996   908]]\n",
      "Time elapsed: 23.94252634048462\n"
     ]
    },
    {
     "name": "stderr",
     "output_type": "stream",
     "text": [
      "C:\\Users\\uhac013\\Anaconda3\\lib\\site-packages\\sklearn\\neural_network\\_multilayer_perceptron.py:571: ConvergenceWarning: Stochastic Optimizer: Maximum iterations (200) reached and the optimization hasn't converged yet.\n",
      "  % self.max_iter, ConvergenceWarning)\n"
     ]
    }
   ],
   "source": [
    "start = time.time()\n",
    "\n",
    "from sklearn.neural_network import MLPClassifier\n",
    "mlp = MLPClassifier(random_state=2021).fit(X_train,y_train)\n",
    "mlp.fit(X_train,y_train)\n",
    "\n",
    "# Evaluating the quality:\n",
    "y_pred = mlp.predict(X_test)\n",
    "print(\"Number of errors:\",np.sum(y_test!=y_pred))\n",
    "\n",
    "print('Confusion matrix:')\n",
    "from sklearn.metrics import confusion_matrix\n",
    "CM = confusion_matrix(y_test, y_pred)\n",
    "print(CM)\n",
    "\n",
    "# finding time elapsed in seconds\n",
    "end = time.time()\n",
    "print(\"Time elapsed:\", end - start)"
   ]
  },
  {
   "cell_type": "markdown",
   "metadata": {},
   "source": [
    "### 1.2 Support Vector Machines"
   ]
  },
  {
   "cell_type": "markdown",
   "metadata": {},
   "source": [
    "We only use the kernel (not linear) SVM."
   ]
  },
  {
   "cell_type": "code",
   "execution_count": 5,
   "metadata": {},
   "outputs": [
    {
     "name": "stdout",
     "output_type": "stream",
     "text": [
      "Number of errors: 14425\n",
      "Confusion matrix:\n",
      "[[20338    70]\n",
      " [14355   549]]\n",
      "Time elapsed: 8.091676712036133\n"
     ]
    }
   ],
   "source": [
    "start = time.time()\n",
    "\n",
    "from sklearn.svm import SVC\n",
    "svm = SVC().fit(X_train, y_train)  # max_iter default=1000\n",
    "\n",
    "# Evaluating the quality:\n",
    "y_pred = svm.predict(X_test)\n",
    "print(\"Number of errors:\",np.sum(y_test!=y_pred))\n",
    "\n",
    "print('Confusion matrix:')\n",
    "CM = confusion_matrix(y_test, y_pred)\n",
    "print(CM)\n",
    "\n",
    "# finding time elapsed in seconds\n",
    "end = time.time()\n",
    "print(\"Time elapsed:\", end - start)"
   ]
  },
  {
   "cell_type": "markdown",
   "metadata": {},
   "source": [
    "### 1.3 Decision Trees"
   ]
  },
  {
   "cell_type": "code",
   "execution_count": 6,
   "metadata": {},
   "outputs": [
    {
     "name": "stdout",
     "output_type": "stream",
     "text": [
      "Number of errors: 9318\n",
      "Confusion matrix:\n",
      "[[18307  2101]\n",
      " [ 7217  7687]]\n",
      "Time elapsed: 0.11513924598693848\n"
     ]
    }
   ],
   "source": [
    "start = time.time()\n",
    "\n",
    "from sklearn.tree import DecisionTreeClassifier\n",
    "tree = DecisionTreeClassifier().fit(X_train, y_train)\n",
    "\n",
    "# Evaluating the quality:\n",
    "y_pred = tree.predict(X_test)\n",
    "print(\"Number of errors:\",np.sum(y_test!=y_pred))\n",
    "\n",
    "print('Confusion matrix:')\n",
    "CM = confusion_matrix(y_test, y_pred)\n",
    "print(CM)\n",
    "\n",
    "# finding time elapsed in seconds\n",
    "end = time.time()\n",
    "print(\"Time elapsed:\", end - start)"
   ]
  },
  {
   "cell_type": "markdown",
   "metadata": {},
   "source": [
    "### 1.4 Ensemble methods"
   ]
  },
  {
   "cell_type": "markdown",
   "metadata": {},
   "source": [
    "First Random Forest."
   ]
  },
  {
   "cell_type": "code",
   "execution_count": 7,
   "metadata": {},
   "outputs": [
    {
     "name": "stdout",
     "output_type": "stream",
     "text": [
      "Number of errors: 9184\n",
      "Confusion matrix:\n",
      "[[19091  1317]\n",
      " [ 7867  7037]]\n",
      "Time elapsed: 1.0691866874694824\n"
     ]
    }
   ],
   "source": [
    "start = time.time()\n",
    "\n",
    "from sklearn.ensemble import RandomForestClassifier\n",
    "forest = RandomForestClassifier(random_state=2021).fit(X_train, y_train)\n",
    "\n",
    "# Evaluating the quality:\n",
    "y_pred = forest.predict(X_test)\n",
    "print(\"Number of errors:\",np.sum(y_test!=y_pred))\n",
    "\n",
    "from sklearn.metrics import confusion_matrix\n",
    "print('Confusion matrix:')\n",
    "CM = confusion_matrix(y_test, y_pred)\n",
    "print(CM)\n",
    "\n",
    "# finding time elapsed in seconds\n",
    "end = time.time()\n",
    "print(\"Time elapsed:\", end - start)"
   ]
  },
  {
   "cell_type": "markdown",
   "metadata": {},
   "source": [
    "Now Gradient Boosting."
   ]
  },
  {
   "cell_type": "code",
   "execution_count": 8,
   "metadata": {},
   "outputs": [
    {
     "name": "stdout",
     "output_type": "stream",
     "text": [
      "Number of errors: 9165\n",
      "Confusion matrix:\n",
      "[[18866  1542]\n",
      " [ 7623  7281]]\n",
      "Time elapsed: 0.9256107807159424\n"
     ]
    }
   ],
   "source": [
    "start = time.time()\n",
    "\n",
    "from sklearn.ensemble import GradientBoostingClassifier\n",
    "gb = GradientBoostingClassifier(random_state=2021).fit(X_train, y_train)\n",
    "\n",
    "# Evaluating the quality:\n",
    "y_pred = gb.predict(X_test)\n",
    "print(\"Number of errors:\",np.sum(y_test!=y_pred))\n",
    "\n",
    "print('Confusion matrix:')\n",
    "CM = confusion_matrix(y_test, y_pred)\n",
    "print(CM)\n",
    "\n",
    "# finding time elapsed in seconds\n",
    "end = time.time()\n",
    "print(\"Time elapsed:\", end - start)"
   ]
  },
  {
   "cell_type": "markdown",
   "metadata": {},
   "source": [
    "### 1.5 Naive Bayes"
   ]
  },
  {
   "cell_type": "code",
   "execution_count": 9,
   "metadata": {},
   "outputs": [
    {
     "name": "stdout",
     "output_type": "stream",
     "text": [
      "Number of errors: 15233\n",
      "Confusion matrix:\n",
      "[[16969  3439]\n",
      " [11794  3110]]\n",
      "Time elapsed: 0.0707700252532959\n"
     ]
    }
   ],
   "source": [
    "start = time.time()\n",
    "\n",
    "from sklearn.naive_bayes import GaussianNB\n",
    "nb = GaussianNB().fit(X_train,y_train)\n",
    "\n",
    "# Evaluating the quality:\n",
    "y_pred = nb.predict(X_test)\n",
    "print(\"Number of errors:\",np.sum(y_test!=y_pred))\n",
    "\n",
    "print('Confusion matrix:')\n",
    "CM = confusion_matrix(y_test, y_pred)\n",
    "print(CM)\n",
    "\n",
    "# finding time elapsed in seconds\n",
    "end = time.time()\n",
    "print(\"Time elapsed:\", end - start)"
   ]
  },
  {
   "cell_type": "markdown",
   "metadata": {},
   "source": [
    "### 1.6 Logistic regression"
   ]
  },
  {
   "cell_type": "code",
   "execution_count": 10,
   "metadata": {},
   "outputs": [
    {
     "name": "stdout",
     "output_type": "stream",
     "text": [
      "Number of errors: 23050\n",
      "Confusion matrix:\n",
      "[[ 2822 17586]\n",
      " [ 5464  9440]]\n",
      "Time elapsed: 0.04724311828613281\n"
     ]
    }
   ],
   "source": [
    "start = time.time()\n",
    "\n",
    "from sklearn.linear_model import LogisticRegression\n",
    "logistic = LogisticRegression(random_state=2021).fit(X_train, y_train)\n",
    "\n",
    "# Evaluating the quality:\n",
    "y_pred = logistic.predict(X_test)\n",
    "print(\"Number of errors:\",np.sum(y_test!=y_pred))\n",
    "\n",
    "print('Confusion matrix:')\n",
    "CM = confusion_matrix(y_test, y_pred)\n",
    "print(CM)\n",
    "\n",
    "# finding time elapsed in seconds\n",
    "end = time.time()\n",
    "print(\"Time elapsed:\", end - start)"
   ]
  },
  {
   "cell_type": "markdown",
   "metadata": {},
   "source": [
    "## 2 The log loss of standard algorithms"
   ]
  },
  {
   "cell_type": "markdown",
   "metadata": {},
   "source": [
    "We will use Random Forest in this paper for all figures.\n",
    "\n",
    "We need to modify the log loss function, as in scikit-learn (but for a different $\\epsilon$).\n",
    "Let us also define the Bernoulli distribution."
   ]
  },
  {
   "cell_type": "code",
   "execution_count": 11,
   "metadata": {},
   "outputs": [],
   "source": [
    "epsilon = 10**(-2)  # the safety threshold for the log loss function\n",
    "def truncate(p):\n",
    "  if p<epsilon:\n",
    "    return epsilon\n",
    "  else:\n",
    "    if p>1-epsilon:\n",
    "      return 1-epsilon\n",
    "    else:\n",
    "      return p\n",
    "# The Bernoulli distribution:\n",
    "def Bern(p,y):  # y is 0 or 1\n",
    "  if y==1:\n",
    "    return p\n",
    "  else:\n",
    "    return 1-p"
   ]
  },
  {
   "cell_type": "markdown",
   "metadata": {},
   "source": [
    "First Neural Nets."
   ]
  },
  {
   "cell_type": "code",
   "execution_count": 12,
   "metadata": {},
   "outputs": [
    {
     "name": "stderr",
     "output_type": "stream",
     "text": [
      "C:\\Users\\uhac013\\Anaconda3\\lib\\site-packages\\sklearn\\neural_network\\_multilayer_perceptron.py:571: ConvergenceWarning: Stochastic Optimizer: Maximum iterations (200) reached and the optimization hasn't converged yet.\n",
      "  % self.max_iter, ConvergenceWarning)\n"
     ]
    },
    {
     "name": "stdout",
     "output_type": "stream",
     "text": [
      "Number of errors: 14358 out of 35312\n",
      "465071.51000828407 with 11495 infinities; modified loss: 65763.17740980198\n",
      "Time elapsed: 11.54547119140625\n"
     ]
    }
   ],
   "source": [
    "start = time.time()\n",
    "\n",
    "from sklearn.neural_network import MLPClassifier\n",
    "mlp = MLPClassifier(random_state=2021).fit(X_train,y_train)\n",
    "\n",
    "# Evaluating the quality:\n",
    "y_pred = mlp.predict(X_test)\n",
    "print(\"Number of errors:\",np.sum(y_test!=y_pred),'out of',y_test.size)\n",
    "\n",
    "p_pred = mlp.predict_proba(X_test)[:,1]  # probability of 1\n",
    "\n",
    "cum_loss = 0  # initialization of the loss\n",
    "num_infty = 0 # initialization of the number of infinities\n",
    "mod_cum_loss = 0 # initialization of the modified loss\n",
    "for n in range(N_test):\n",
    "  predicted = Bern(p_pred[n],y_test[n])\n",
    "  if predicted==0:\n",
    "    num_infty += 1\n",
    "  else:\n",
    "    cum_loss += -np.log(predicted)\n",
    "  mod_cum_loss += -np.log(truncate(predicted))\n",
    "print(cum_loss,\"with\",num_infty,\"infinities; modified loss:\",mod_cum_loss)\n",
    "\n",
    "# finding time elapsed in seconds\n",
    "end = time.time()\n",
    "print(\"Time elapsed:\", end - start)"
   ]
  },
  {
   "cell_type": "markdown",
   "metadata": {},
   "source": [
    "Now SVM."
   ]
  },
  {
   "cell_type": "code",
   "execution_count": 13,
   "metadata": {},
   "outputs": [
    {
     "name": "stdout",
     "output_type": "stream",
     "text": [
      "Number of errors: 14425 out of 35312\n",
      "23533.699064248012 with 0 infinities; modified loss: 23533.699064248012\n",
      "Time elapsed: 20.761192560195923\n"
     ]
    }
   ],
   "source": [
    "start = time.time()\n",
    "\n",
    "from sklearn.svm import SVC\n",
    "svm = SVC(probability=True).fit(X_train, y_train)  # max_iter default=1000\n",
    "\n",
    "# Evaluating the quality:\n",
    "y_pred = svm.predict(X_test)\n",
    "print(\"Number of errors:\",np.sum(y_test!=y_pred),'out of',y_test.size)\n",
    "\n",
    "p_pred = svm.predict_proba(X_test)[:,1]  # probability of 1\n",
    "\n",
    "cum_loss = 0  # initialization of the loss\n",
    "num_infty = 0 # initialization of the number of infinities\n",
    "mod_cum_loss = 0 # initialization of the modified loss\n",
    "for n in range(N_test):\n",
    "  predicted = Bern(p_pred[n],y_test[n])\n",
    "  if predicted==0:\n",
    "    num_infty += 1\n",
    "  else:\n",
    "    cum_loss += -np.log(predicted)\n",
    "  mod_cum_loss += -np.log(truncate(predicted))\n",
    "print(cum_loss,\"with\",num_infty,\"infinities; modified loss:\",mod_cum_loss)\n",
    "\n",
    "# finding time elapsed in seconds\n",
    "end = time.time()\n",
    "print(\"Time elapsed:\", end - start)"
   ]
  },
  {
   "cell_type": "markdown",
   "metadata": {},
   "source": [
    "Next Decision Trees."
   ]
  },
  {
   "cell_type": "code",
   "execution_count": 14,
   "metadata": {},
   "outputs": [
    {
     "name": "stdout",
     "output_type": "stream",
     "text": [
      "Number of errors: 9372 out of 35312\n",
      "0.0 with 9372 infinities; modified loss: 43420.360695127994\n",
      "Time elapsed: 0.16579842567443848\n"
     ]
    }
   ],
   "source": [
    "start = time.time()\n",
    "\n",
    "from sklearn.tree import DecisionTreeClassifier\n",
    "tree = DecisionTreeClassifier(random_state=2021).fit(X_train, y_train)\n",
    "\n",
    "# Evaluating the quality:\n",
    "y_pred = tree.predict(X_test)\n",
    "print(\"Number of errors:\",np.sum(y_test!=y_pred),'out of',y_test.size)\n",
    "\n",
    "p_pred = tree.predict_proba(X_test)[:,1]  # probability of 1\n",
    "\n",
    "cum_loss = 0  # initialization of the loss\n",
    "num_infty = 0 # initialization of the number of infinities\n",
    "mod_cum_loss = 0 # initialization of the modified loss\n",
    "for n in range(N_test):\n",
    "  predicted = Bern(p_pred[n],y_test[n])\n",
    "  if predicted==0:\n",
    "    num_infty += 1\n",
    "  else:\n",
    "    cum_loss += -np.log(predicted)\n",
    "  mod_cum_loss += -np.log(truncate(predicted))\n",
    "print(cum_loss,\"with\",num_infty,\"infinities; modified loss:\",mod_cum_loss)\n",
    "\n",
    "# finding time elapsed in seconds\n",
    "end = time.time()\n",
    "print(\"Time elapsed:\", end - start)"
   ]
  },
  {
   "cell_type": "markdown",
   "metadata": {},
   "source": [
    "Next Gradient Boosting."
   ]
  },
  {
   "cell_type": "code",
   "execution_count": 15,
   "metadata": {},
   "outputs": [
    {
     "name": "stdout",
     "output_type": "stream",
     "text": [
      "Number of errors: 9165 out of 35312\n",
      "38847.302275645096 with 0 infinities; modified loss: 35152.270758520484\n",
      "Time elapsed: 1.0819759368896484\n"
     ]
    }
   ],
   "source": [
    "start = time.time()\n",
    "\n",
    "from sklearn.ensemble import GradientBoostingClassifier\n",
    "gb = GradientBoostingClassifier(random_state=2021).fit(X_train, y_train)\n",
    "\n",
    "# Evaluating the quality:\n",
    "y_pred = gb.predict(X_test)\n",
    "print(\"Number of errors:\",np.sum(y_test!=y_pred),'out of',y_test.size)\n",
    "\n",
    "p_pred = gb.predict_proba(X_test)[:,1]  # probability of 1\n",
    "\n",
    "cum_loss = 0  # initialization of the loss\n",
    "num_infty = 0 # initialization of the number of infinities\n",
    "mod_cum_loss = 0 # initialization of the modified loss\n",
    "for n in range(N_test):\n",
    "  predicted = Bern(p_pred[n],y_test[n])\n",
    "  if predicted==0:\n",
    "    num_infty += 1\n",
    "  else:\n",
    "    cum_loss += -np.log(predicted)\n",
    "  mod_cum_loss += -np.log(truncate(predicted))\n",
    "print(cum_loss,\"with\",num_infty,\"infinities; modified loss:\",mod_cum_loss)\n",
    "\n",
    "# finding time elapsed in seconds\n",
    "end = time.time()\n",
    "print(\"Time elapsed:\", end - start)"
   ]
  },
  {
   "cell_type": "markdown",
   "metadata": {},
   "source": [
    "Next Naive Bayes.\n",
    "\n",
    "<font color='red'>There big problems with this dataset and this and next algorithms.</font>\n",
    "For this one, the probabilities produced by predict_proba disagree with the point predictions."
   ]
  },
  {
   "cell_type": "code",
   "execution_count": 16,
   "metadata": {},
   "outputs": [
    {
     "name": "stdout",
     "output_type": "stream",
     "text": [
      "Number of errors: 15233 out of 35312\n",
      "discrepancy in predictions (point 0, probabilistic 1): 7424 0.0 1.0 0.0\n",
      "discrepancy in predictions (point 0, probabilistic 1): 7425 0.0 1.0 0.0\n",
      "discrepancy in predictions (point 0, probabilistic 1): 7426 0.0 1.0 0.0\n",
      "discrepancy in predictions (point 0, probabilistic 1): 7427 0.0 1.0 0.0\n",
      "discrepancy in predictions (point 0, probabilistic 1): 7428 0.0 1.0 0.0\n",
      "discrepancy in predictions (point 0, probabilistic 1): 7429 0.0 1.0 0.0\n",
      "discrepancy in predictions (point 0, probabilistic 1): 7430 0.0 1.0 0.0\n",
      "discrepancy in predictions (point 0, probabilistic 1): 7431 0.0 1.0 1.0\n",
      "discrepancy in predictions (point 0, probabilistic 1): 7432 0.0 1.0 1.0\n",
      "discrepancy in predictions (point 0, probabilistic 1): 7433 0.0 1.0 1.0\n",
      "discrepancy in predictions (point 0, probabilistic 1): 7434 0.0 1.0 0.0\n",
      "discrepancy in predictions (point 0, probabilistic 1): 7435 0.0 1.0 0.0\n",
      "discrepancy in predictions (point 0, probabilistic 1): 7436 0.0 1.0 0.0\n",
      "discrepancy in predictions (point 0, probabilistic 1): 7437 0.0 1.0 0.0\n",
      "discrepancy in predictions (point 0, probabilistic 1): 7438 0.0 1.0 0.0\n",
      "discrepancy in predictions (point 0, probabilistic 1): 7439 0.0 1.0 0.0\n",
      "discrepancy in predictions (point 0, probabilistic 1): 7440 0.0 1.0 0.0\n",
      "discrepancy in predictions (point 0, probabilistic 1): 7441 0.0 1.0 1.0\n",
      "discrepancy in predictions (point 0, probabilistic 1): 7442 0.0 1.0 1.0\n",
      "discrepancy in predictions (point 0, probabilistic 1): 7443 0.0 1.0 1.0\n",
      "discrepancy in predictions (point 0, probabilistic 1): 7444 0.0 1.0 1.0\n",
      "discrepancy in predictions (point 0, probabilistic 1): 7445 0.0 1.0 1.0\n",
      "discrepancy in predictions (point 0, probabilistic 1): 7446 0.0 1.0 1.0\n",
      "discrepancy in predictions (point 0, probabilistic 1): 7447 0.0 1.0 1.0\n",
      "discrepancy in predictions (point 0, probabilistic 1): 7448 0.0 1.0 1.0\n",
      "discrepancy in predictions (point 0, probabilistic 1): 7449 0.0 1.0 1.0\n",
      "563.6727309996437 with 19603 infinities; modified loss: 90982.87500494372\n",
      "19865 errors\n",
      "Time elapsed: 0.20647406578063965\n"
     ]
    }
   ],
   "source": [
    "start = time.time()\n",
    "\n",
    "from sklearn.naive_bayes import GaussianNB\n",
    "nb = GaussianNB().fit(X_train,y_train)\n",
    "\n",
    "# Evaluating the quality:\n",
    "y_pred = nb.predict(X_test)\n",
    "print(\"Number of errors:\",np.sum(y_test!=y_pred),'out of',y_test.size)\n",
    "\n",
    "p_pred = nb.predict_proba(X_test)[:,1]  # probability of 1\n",
    "\n",
    "cum_loss = 0  # initialization of the loss\n",
    "num_infty = 0 # initialization of the number of infinities\n",
    "mod_cum_loss = 0 # initialization of the modified loss\n",
    "num_errors = 0   # initialization of the number of errors\n",
    "for n in range(N_test):\n",
    "  if y_pred[n]==0 and (p_pred[n]>0.5) and (n<7450):  # discrepancies among the first 7500 predictions\n",
    "    print(\"discrepancy in predictions (point 0, probabilistic 1):\",n,y_pred[n],p_pred[n],y_test[n])\n",
    "  if y_pred[n]==1 and (p_pred[n]<0.5) and (n<7450):  # discrepancies among the first 7500 predictions\n",
    "    print(\"discrepancy in predictions (point 1, probabilistic 0):\",n,y_pred[n],p_pred[n],y_test[n])\n",
    "  predicted = Bern(p_pred[n],y_test[n])\n",
    "  if predicted==0:\n",
    "    num_infty += 1\n",
    "  else:\n",
    "    cum_loss += -np.log(predicted)\n",
    "  mod_cum_loss += -np.log(truncate(predicted))\n",
    "  if predicted < 0.5:\n",
    "    num_errors += 1\n",
    "  if predicted == 0.5:\n",
    "    print('Exactly 0.5 predicted!')\n",
    "    if y_test[n]==1:\n",
    "      num_errors += 1\n",
    "print(cum_loss,\"with\",num_infty,\"infinities; modified loss:\",mod_cum_loss)\n",
    "print(num_errors,\"errors\")\n",
    "\n",
    "# finding time elapsed in seconds\n",
    "end = time.time()\n",
    "print(\"Time elapsed:\", end - start)"
   ]
  },
  {
   "cell_type": "markdown",
   "metadata": {},
   "source": [
    "Next, Logistic Regression."
   ]
  },
  {
   "cell_type": "code",
   "execution_count": 17,
   "metadata": {},
   "outputs": [
    {
     "name": "stdout",
     "output_type": "stream",
     "text": [
      "Number of errors: 23050 out of 35312\n",
      "53595.96111213938 with 19483 infinities; modified loss: 105782.22614943127\n",
      "Time elapsed: 0.16180133819580078\n"
     ]
    }
   ],
   "source": [
    "start = time.time()\n",
    "\n",
    "from sklearn.linear_model import LogisticRegression\n",
    "logistic = LogisticRegression(random_state=2021).fit(X_train, y_train)\n",
    "\n",
    "# Evaluating the quality:\n",
    "y_pred = logistic.predict(X_test)\n",
    "print(\"Number of errors:\",np.sum(y_test!=y_pred),'out of',y_test.size)\n",
    "\n",
    "p_pred = logistic.predict_proba(X_test)[:,1]  # probability of 1\n",
    "\n",
    "cum_loss = 0  # initialization of the loss\n",
    "num_infty = 0 # initialization of the number of infinities\n",
    "mod_cum_loss = 0 # initialization of the modified loss\n",
    "for n in range(N_test):\n",
    "  predicted = Bern(p_pred[n],y_test[n])\n",
    "  if predicted==0:\n",
    "    num_infty += 1\n",
    "  else:\n",
    "    cum_loss += -np.log(predicted)\n",
    "  mod_cum_loss += -np.log(truncate(predicted))\n",
    "print(cum_loss,\"with\",num_infty,\"infinities; modified loss:\",mod_cum_loss)\n",
    "\n",
    "# finding time elapsed in seconds\n",
    "end = time.time()\n",
    "print(\"Time elapsed:\", end - start)"
   ]
  },
  {
   "cell_type": "markdown",
   "metadata": {},
   "source": [
    "Finally, Random Forest."
   ]
  },
  {
   "cell_type": "code",
   "execution_count": 18,
   "metadata": {},
   "outputs": [
    {
     "name": "stdout",
     "output_type": "stream",
     "text": [
      "Number of errors: 9184 out of 35312\n",
      "10055.69085644122 with 174 infinities; modified loss: 10415.515114275957\n",
      "Time elapsed: 1.4421536922454834\n"
     ]
    }
   ],
   "source": [
    "start = time.time()\n",
    "\n",
    "from sklearn.ensemble import RandomForestClassifier\n",
    "forest = RandomForestClassifier(random_state=2021).fit(X_train, y_train)\n",
    "\n",
    "# Evaluating the quality:\n",
    "y_pred = forest.predict(X_test)\n",
    "print(\"Number of errors:\",np.sum(y_test!=y_pred),'out of',y_test.size)\n",
    "\n",
    "p_pred = forest.predict_proba(X_test)[:,1]  # probability of 1\n",
    "\n",
    "cum_loss = 0  # initialization of the loss\n",
    "num_infty = 0 # initialization of the number of infinities\n",
    "mod_cum_loss = 0 # initialization of the modified loss\n",
    "for n in range(N_test):\n",
    "  predicted = Bern(p_pred[n],y_test[n])\n",
    "  if predicted==0:\n",
    "    num_infty += 1\n",
    "  else:\n",
    "    cum_loss += -np.log10(predicted)\n",
    "  mod_cum_loss += -np.log10(truncate(predicted))\n",
    "print(cum_loss,\"with\",num_infty,\"infinities; modified loss:\",mod_cum_loss)\n",
    "\n",
    "# finding time elapsed in seconds\n",
    "end = time.time()\n",
    "print(\"Time elapsed:\", end - start)"
   ]
  },
  {
   "cell_type": "markdown",
   "metadata": {},
   "source": [
    "## 3 Choosing the calibrating functions"
   ]
  },
  {
   "cell_type": "markdown",
   "metadata": {},
   "source": [
    "First quadratic calibrating functions.\n",
    "(For use in the supplementary material, the right panel of Figure S.1.)"
   ]
  },
  {
   "cell_type": "code",
   "execution_count": 19,
   "metadata": {},
   "outputs": [],
   "source": [
    "# The quadratic calibrator:\n",
    "def quad_cal(p,theta):\n",
    "  return p + theta*p*(1-p)\n",
    "\n",
    "# The cubic calibrator:\n",
    "def cub_cal(p,a,b):\n",
    "  return p + a*p*(p-b)*(p-1)\n",
    "\n",
    "# My family of calibrators:\n",
    "Ncal = 5  # the number of calibrators\n",
    "def my_cal(p,k):  # my calibrators (quadratic)\n",
    "  if k==0:\n",
    "    return quad_cal(p,0)\n",
    "  if k==1:\n",
    "    return quad_cal(p,1)\n",
    "  if k==2:\n",
    "    return quad_cal(p,-1)\n",
    "  if k==3:\n",
    "    return quad_cal(p,0.5)\n",
    "  if k==4:\n",
    "    return quad_cal(p,-0.5)\n",
    "  else:\n",
    "    print(\"my_cal failure\")"
   ]
  },
  {
   "cell_type": "markdown",
   "metadata": {},
   "source": [
    "Now Cox's family."
   ]
  },
  {
   "cell_type": "code",
   "execution_count": 20,
   "metadata": {},
   "outputs": [],
   "source": [
    "alphas = [0, -1, 1]  # make sure to start from 0 (the neutral value)\n",
    "betas = [1, 0.5, 2]  # make sure to start from 1 (the neutral value)\n",
    "Ncal_alpha = len(alphas) # the number of alpha calibrators\n",
    "Ncal_beta = len(betas) # the number of beta calibrators\n",
    "Ncal = Ncal_alpha * Ncal_beta  # the total number of calibrators\n",
    "\n",
    "def Cox(p,alpha,beta):\n",
    "  return p**beta*np.exp(alpha) / (p**beta*np.exp(alpha) + (1-p)**beta)\n",
    "\n",
    "def set_theta(index):  # finding theta=(alpha,beta) from its index\n",
    "  result = np.empty(2)  # initializing the result\n",
    "  current_index = index\n",
    "  result[0] = current_index % Ncal_alpha  # alpha is at index 0\n",
    "  current_index = current_index // Ncal_alpha\n",
    "  result[1] = current_index % Ncal_beta  # beta is at index 1\n",
    "  current_index = current_index // Ncal_beta\n",
    "  if current_index!=0:\n",
    "    print('Error')\n",
    "  return result\n",
    "\n",
    "def my_cal(p,k):  # exactly as in OCM 32\n",
    "  theta = set_theta(k)\n",
    "  return Cox(p,theta[0],theta[1])"
   ]
  },
  {
   "cell_type": "markdown",
   "metadata": {},
   "source": [
    "## 4 Our test martingales"
   ]
  },
  {
   "cell_type": "markdown",
   "metadata": {},
   "source": [
    "The following cell implements the Composite Jumper (CJ) martingale (Figure 5).\n",
    "After slight editing (see the instructions in the comments),\n",
    "it can be used for drawing several Simple Jumper (SJ) martingales,\n",
    "as in the right panel of Figure S.5 in the supplementary material."
   ]
  },
  {
   "cell_type": "code",
   "execution_count": 21,
   "metadata": {},
   "outputs": [
    {
     "data": {
      "image/png": "[encoded data removed]",
      "text/plain": [
       "<Figure size 432x288 with 1 Axes>"
      ]
     },
     "metadata": {
      "needs_background": "light"
     },
     "output_type": "display_data"
    },
    {
     "name": "stdout",
     "output_type": "stream",
     "text": [
      "Final values of SJs on the log scale: [4795.55321764 4299.15521155 3923.92009504]\n",
      "Final value of CJ on the log scale: 4794.775066388108\n",
      "Time elapsed: 12.356814861297607\n"
     ]
    }
   ],
   "source": [
    "import time   # for timing\n",
    "start = time.time()\n",
    "\n",
    "# Parameters\n",
    "# pi = 0.5  # the passive weight; pi=0.5 is assumed but not used explicitly\n",
    "Jrates = [10**(-2),10**(-3),10**(-4)]  # the jumping rates; canonical: 0.01, 0.001, 0.0001\n",
    "NJ = len(Jrates)\n",
    "\n",
    "# The calibrators were defined in Section 3.\n",
    "\n",
    "# Arithmetic average of numbers given on the log10 scale:\n",
    "def log_mean(x):\n",
    "  n = len(x)\n",
    "  m = np.max(x)\n",
    "  return m+np.log10(np.mean(np.exp(np.log(10)*(x-m))))\n",
    "\n",
    "# initializing the SJ and CJ test martingales on the log scale (including the initial value of 0):\n",
    "log_SJ_martingale = np.zeros((NJ,(N_test+1)))\n",
    "log_CJ_martingale = np.zeros(N_test+1)\n",
    "\n",
    "# Processing the dataset\n",
    "for J_index in range(NJ):  # going over all jumping rates\n",
    "  Jrate = Jrates[J_index]  # the current jumping rate\n",
    "  MartCap = np.zeros(Ncal)  # the normalized capital in each state (after normalization at the previous step)\n",
    "  MartCap[0] = 1  # the initial distribution for each jumping rate is uniform\n",
    "  for n in range(N_test):\n",
    "    # Jump mixing starts\n",
    "    Capital = np.sum(MartCap[:])  # redundant; we know that Capital = 1 at this point\n",
    "    MartCap[:] = (1-Jrate)*MartCap[:] + (Jrate/Ncal)*Capital\n",
    "    # Jump mixing ends\n",
    "    ppp = truncate(p_pred[n])   # base prediction\n",
    "    for k in range(Ncal):\n",
    "      new_ppp = my_cal(ppp,k)    # our new prediction\n",
    "      # at this point we know that Bern(ppp,y_test[n])!=0\n",
    "      MartCap[k] *= Bern(new_ppp,y_test[n]) / Bern(ppp,y_test[n])\n",
    "    increase = np.sum(MartCap[:])   # relative increase in my capital\n",
    "    log_SJ_martingale[J_index,n+1] = log_SJ_martingale[J_index,n] + np.log10(increase)\n",
    "    MartCap[:] /= increase\n",
    "  # plt.plot(log_SJ_martingale[J_index,:],label='jumping rate: '+str(Jrate))  # for SJ martingales\n",
    "\n",
    "for n in range(N_test+1):\n",
    "  log_CJ_martingale[n] = log_mean([1,log_mean(log_SJ_martingale[:,n])])\n",
    "\n",
    "plt.plot(log_CJ_martingale,c='b')   # for CJ martingale\n",
    "plt.ylabel('log10 test martingale')  # choose singular or plural\n",
    "# plt.legend()  # for SJ martingales\n",
    "# plt.savefig(\"el_SJs.pdf\", bbox_inches='tight')\n",
    "plt.show()\n",
    "\n",
    "# Interesting values for the caption or text:\n",
    "print(\"Final values of SJs on the log scale:\", log_SJ_martingale[:,N_test])\n",
    "print(\"Final value of CJ on the log scale:\", log_CJ_martingale[N_test])\n",
    "\n",
    "# finding time elapsed in seconds\n",
    "end = time.time()\n",
    "print(\"Time elapsed:\", end - start)"
   ]
  },
  {
   "cell_type": "markdown",
   "metadata": {},
   "source": [
    "## 5 Turning the test martingale into a predictive system"
   ]
  },
  {
   "cell_type": "markdown",
   "metadata": {},
   "source": [
    "The following cell implements Algorithm 2 with $\\pi=0$ and for a fixed jumping rate J.\n",
    "Not used in the paper."
   ]
  },
  {
   "cell_type": "code",
   "execution_count": 22,
   "metadata": {},
   "outputs": [
    {
     "name": "stdout",
     "output_type": "stream",
     "text": [
      "Base: 10055.69085644122 with 174 infinities; modified loss: 10415.515114275957\n",
      "Protected: 5618.261530959309 with 0 infinities; modified loss: 5620.196364080597\n",
      "Time elapsed: 4.905060768127441\n"
     ]
    }
   ],
   "source": [
    "import time   # for timing\n",
    "start = time.time()\n",
    "\n",
    "# Parameters\n",
    "Jrate = 0.01  # the jumping rate\n",
    "\n",
    "# The calibrators were defined in Section 3.\n",
    "\n",
    "# initializing the predicted probabilities:\n",
    "p_prime = np.empty(N_test)\n",
    "\n",
    "# Processing the dataset\n",
    "weight = np.ones(Ncal)  # the weight of each state\n",
    "for n in range(N_test):\n",
    "  # Jump mixing starts\n",
    "  Capital = np.sum(weight[:])\n",
    "  weight[:] /= Capital  # normalization\n",
    "  weight[:] = (1-Jrate)*weight[:] + Jrate/Ncal\n",
    "  # Jump mixing ends\n",
    "  ppp = truncate(p_pred[n])   # base prediction\n",
    "  new_ppp = 0    # initializing the new prediction\n",
    "  for k in range(Ncal):\n",
    "    cal_ppp_k = my_cal(ppp,k)  # prediction calibrated by the k-th calibrator\n",
    "    new_ppp += cal_ppp_k * weight[k]  # accumulating predictions calibrated by the calibrators\n",
    "  p_prime[n] = new_ppp\n",
    "  for k in range(Ncal):\n",
    "    cal_ppp_k = my_cal(ppp,k)  # prediction calibrated by the k-th calibrator\n",
    "    weight[k] *= Bern(cal_ppp_k,y_test[n])\n",
    "\n",
    "cum_loss = 0  # initialization of the loss of the base predictive system\n",
    "num_infty = 0 # initialization of the number of infinities\n",
    "mod_cum_loss = 0 # initialization of the modified loss\n",
    "for n in range(N_test):\n",
    "  predicted = Bern(p_pred[n],y_test[n])\n",
    "  if predicted==0:\n",
    "    num_infty += 1\n",
    "  else:\n",
    "    cum_loss += -np.log10(predicted)\n",
    "  mod_cum_loss += -np.log10(truncate(predicted))\n",
    "print(\"Base:\",cum_loss,\"with\",num_infty,\"infinities; modified loss:\",mod_cum_loss)\n",
    "\n",
    "cum_loss = 0  # initialization of the loss of the protected predictive system\n",
    "num_infty = 0 # initialization of the number of infinities\n",
    "mod_cum_loss = 0 # initialization of the modified loss (not used)\n",
    "for n in range(N_test):\n",
    "  predicted = Bern(p_prime[n],y_test[n])\n",
    "  if predicted==0:\n",
    "    num_infty += 1\n",
    "  else:\n",
    "    cum_loss += -np.log10(predicted)\n",
    "  mod_cum_loss += -np.log10(truncate(predicted))\n",
    "print(\"Protected:\",cum_loss,\"with\",num_infty,\"infinities; modified loss:\",mod_cum_loss)\n",
    "\n",
    "# finding time elapsed in seconds\n",
    "end = time.time()\n",
    "print(\"Time elapsed:\", end - start)"
   ]
  },
  {
   "cell_type": "markdown",
   "metadata": {},
   "source": [
    "Next we implement Algorithm 2 for $\\pi=0.5$ and for a range of jumping rates.\n",
    "This is used for Figure 6."
   ]
  },
  {
   "cell_type": "code",
   "execution_count": 23,
   "metadata": {},
   "outputs": [
    {
     "name": "stdout",
     "output_type": "stream",
     "text": [
      "Exactly 0.5 predicted by base!\n",
      "Exactly 0.5 predicted by base!\n",
      "Exactly 0.5 predicted by base!\n",
      "Exactly 0.5 predicted by base!\n",
      "Exactly 0.5 predicted by base!\n",
      "Exactly 0.5 predicted by base!\n",
      "Exactly 0.5 predicted by base!\n",
      "Exactly 0.5 predicted by base!\n",
      "Exactly 0.5 predicted by base!\n",
      "Exactly 0.5 predicted by base!\n",
      "Exactly 0.5 predicted by base!\n",
      "Exactly 0.5 predicted by base!\n",
      "Exactly 0.5 predicted by base!\n",
      "Exactly 0.5 predicted by base!\n",
      "Exactly 0.5 predicted by base!\n",
      "Exactly 0.5 predicted by base!\n",
      "Exactly 0.5 predicted by base!\n",
      "Exactly 0.5 predicted by base!\n",
      "Exactly 0.5 predicted by base!\n",
      "Exactly 0.5 predicted by base!\n",
      "Exactly 0.5 predicted by base!\n",
      "Exactly 0.5 predicted by base!\n",
      "Exactly 0.5 predicted by base!\n",
      "Exactly 0.5 predicted by base!\n",
      "Exactly 0.5 predicted by base!\n",
      "Exactly 0.5 predicted by base!\n",
      "Exactly 0.5 predicted by base!\n",
      "Exactly 0.5 predicted by base!\n",
      "Exactly 0.5 predicted by base!\n",
      "Exactly 0.5 predicted by base!\n",
      "Exactly 0.5 predicted by base!\n",
      "Base: 10055.69085644122 with 174 infinities; modified loss: 10415.515114275957\n",
      "Base: 9184 errors\n",
      "Protected: 5620.439017892339 with 0 infinities; modified loss: 5622.276644502986\n",
      "Protected: 5846 errors\n",
      "Time elapsed: 8.249679327011108\n"
     ]
    }
   ],
   "source": [
    "import time   # for timing\n",
    "start = time.time()\n",
    "\n",
    "# Parameters\n",
    "pi = 0.5  # the prior weight of the passive elementary predictor\n",
    "Jrates = [10**(-2),10**(-3),10**(-4)]  # the jumping rates\n",
    "NJ = len(Jrates)\n",
    "\n",
    "# Calibrators were defined in Section 3.\n",
    "\n",
    "# initializing the predicted probabilities:\n",
    "p_prime = np.empty(N_test)\n",
    "\n",
    "# Processing the dataset\n",
    "P_weight = pi    # amount set aside (passive weight)\n",
    "A_weight = np.zeros((NJ,Ncal))  # the weight of each active state\n",
    "A_weight[:,0] = 1/NJ    # initial weights\n",
    "# A_weight[:,0] = (1-pi)/NJ    # initial weights\n",
    "for n in range(N_test):  # going through all test observations\n",
    "  # Jump mixing starts\n",
    "  for J_index in range(NJ):\n",
    "    Capital = np.sum(A_weight[J_index,:])  # active capital for this jumping rate\n",
    "    Jrate = Jrates[J_index]\n",
    "    A_weight[J_index,:] = (1-Jrate)*A_weight[J_index,:] + Capital*Jrate/Ncal\n",
    "  # Jump mixing ends\n",
    "  ppp = truncate(p_pred[n])   # base prediction\n",
    "  new_ppp = ppp*P_weight     # initializing the new prediction to its passive component\n",
    "  for k in range(Ncal):\n",
    "    cal_ppp_k = my_cal(ppp,k)  # prediction calibrated by the k-th calibrator\n",
    "    for J_index in range(NJ):\n",
    "      new_ppp += cal_ppp_k * A_weight[J_index,k]  # accumulating predictions calibrated by the calibrators\n",
    "  p_prime[n] = new_ppp   # my prediction\n",
    "  P_weight *= Bern(ppp,y_test[n])  # updating the passive capital\n",
    "  for k in range(Ncal):\n",
    "    cal_ppp_k = my_cal(ppp,k)  # prediction calibrated by the k-th calibrator\n",
    "    for J_index in range(NJ):\n",
    "      A_weight[J_index,k] *= Bern(cal_ppp_k,y_test[n])  # updating the active capital\n",
    "  Capital = P_weight  # initializing the overall capital to the passive capital\n",
    "  for k in range(Ncal):\n",
    "    for J_index in range(NJ):\n",
    "      Capital += A_weight[J_index,k]  # accumulating the overall capital\n",
    "  P_weight /= Capital  # normalization of the passive weight\n",
    "  A_weight[:,:] /= Capital  # normalization of the active weights\n",
    "\n",
    "cum_loss = 0  # initialization of the log10 loss of the base predictive system\n",
    "num_infty = 0 # initialization of the number of infinities\n",
    "mod_cum_loss = 0 # initialization of the modified loss\n",
    "num_errors = 0   # initialization of the number of errors\n",
    "for n in range(N_test):\n",
    "  predicted = Bern(p_pred[n],y_test[n])\n",
    "  if predicted==0:\n",
    "    num_infty += 1\n",
    "  else:\n",
    "    cum_loss += -np.log10(predicted)\n",
    "  mod_cum_loss += -np.log10(truncate(predicted))\n",
    "  if predicted < 0.5:\n",
    "    num_errors += 1\n",
    "  if predicted == 0.5:\n",
    "    print('Exactly 0.5 predicted by base!')\n",
    "    if y_test[n]==1:  # in the case of a tie, I predict 0\n",
    "      num_errors += 1\n",
    "print(\"Base:\",cum_loss,\"with\",num_infty,\"infinities; modified loss:\",mod_cum_loss)\n",
    "print(\"Base:\",num_errors,\"errors\")\n",
    "\n",
    "cum_loss = 0  # initialization of the log10 loss of the protected predictive system\n",
    "num_infty = 0 # initialization of the number of infinities\n",
    "mod_cum_loss = 0 # initialization of the modified loss\n",
    "num_errors = 0   # initialization of the number of errors\n",
    "for n in range(N_test):\n",
    "  predicted = Bern(p_prime[n],y_test[n])\n",
    "  if predicted==0:\n",
    "    num_infty += 1\n",
    "  else:\n",
    "    cum_loss += -np.log10(predicted)\n",
    "  mod_cum_loss += -np.log10(truncate(predicted))\n",
    "  if predicted < 0.5:\n",
    "    num_errors += 1\n",
    "  if predicted == 0.5:\n",
    "    print('Exactly 0.5 predicted by protected!')\n",
    "    if y_test[n]==1:\n",
    "      num_errors += 1\n",
    "print(\"Protected:\",cum_loss,\"with\",num_infty,\"infinities; modified loss:\",mod_cum_loss)\n",
    "print(\"Protected:\",num_errors,\"errors\")\n",
    "\n",
    "# finding time elapsed in seconds\n",
    "end = time.time()\n",
    "print(\"Time elapsed:\", end - start)"
   ]
  },
  {
   "cell_type": "markdown",
   "metadata": {},
   "source": [
    "Now let us draw the ROC curves.\n",
    "Used for various figures in the main paper and supplementary material."
   ]
  },
  {
   "cell_type": "code",
   "execution_count": 24,
   "metadata": {},
   "outputs": [
    {
     "data": {
      "image/png": "[encoded data removed]",
      "text/plain": [
       "<Figure size 432x288 with 1 Axes>"
      ]
     },
     "metadata": {
      "needs_background": "light"
     },
     "output_type": "display_data"
    }
   ],
   "source": [
    "from sklearn import metrics\n",
    "import numpy as np\n",
    "import matplotlib.pyplot as plt\n",
    "\n",
    "plt.figure(0).clf()\n",
    "\n",
    "fpr, tpr, thresh = metrics.roc_curve(y_test, p_pred)\n",
    "auc = metrics.roc_auc_score(y_test, p_pred)\n",
    "plt.plot(fpr,tpr,label=\"Random Forest, auc=\"+str(np.around(auc,decimals=3)))\n",
    "\n",
    "fpr, tpr, thresh = metrics.roc_curve(y_test, p_prime)\n",
    "auc = metrics.roc_auc_score(y_test, p_prime)\n",
    "plt.plot(fpr,tpr,label=\"protected Random Forest, auc=\"+str(np.around(auc,decimals=3)))\n",
    "plt.legend()\n",
    "# plt.savefig(\"el_ROC.pdf\", bbox_inches='tight')\n",
    "plt.show()"
   ]
  },
  {
   "cell_type": "markdown",
   "metadata": {},
   "source": [
    "## 6 Prediction with limited feedback"
   ]
  },
  {
   "cell_type": "markdown",
   "metadata": {},
   "source": [
    "Now we assume that feedback is given every $K$th test observation.\n",
    "This is used for Figure S.8 in the supplementary material."
   ]
  },
  {
   "cell_type": "code",
   "execution_count": 25,
   "metadata": {},
   "outputs": [
    {
     "name": "stdout",
     "output_type": "stream",
     "text": [
      "Base: 10055.69085644122 with 174 infinities; modified loss: 10415.515114275957\n",
      "Protected: 8561.094391871746 with 0 infinities; modified loss: 8561.104668991495\n",
      "Time elapsed: 3.080016851425171\n"
     ]
    }
   ],
   "source": [
    "import time   # for timing\n",
    "start = time.time()\n",
    "\n",
    "# Parameters\n",
    "pi = 0.5  # the prior weight of the passive elementary predictor\n",
    "Jrates = [10**(-2),10**(-3),10**(-4)]  # the jumping rates\n",
    "K = 100   # how often feedback is given (10 or 100 in the paper)\n",
    "\n",
    "NJ = len(Jrates)\n",
    "\n",
    "# Calibrators were defined in Section 3.\n",
    "\n",
    "# initializing the predicted probabilities:\n",
    "p_prime = np.empty(N_test)\n",
    "\n",
    "# Processing the dataset\n",
    "P_weight = pi    # amount set aside (passive weight)\n",
    "A_weight = np.zeros((NJ,Ncal))  # the weight of each active state\n",
    "A_weight[:,0] = (1-pi)/NJ    # initial weights\n",
    "for n in range(N_test):  # going through all test observations\n",
    "  ppp = truncate(p_pred[n])   # base prediction\n",
    "  new_ppp = ppp*P_weight    # initializing the new prediction to its passive component\n",
    "  for k in range(Ncal):\n",
    "    cal_ppp_k = my_cal(ppp,k)  # prediction calibrated by the k-th calibrator\n",
    "    for J_index in range(NJ):\n",
    "      new_ppp += cal_ppp_k * A_weight[J_index,k]  # accumulating predictions calibrated by the calibrators\n",
    "  p_prime[n] = new_ppp   # protected prediction\n",
    "  if n%K==0:   # if n is divisible by K\n",
    "    # Jump mixing starts\n",
    "    for J_index in range(NJ):\n",
    "      Capital = np.sum(A_weight[J_index,:])  # active capital for this jumping rate\n",
    "      Jrate = Jrates[J_index]\n",
    "      A_weight[J_index,:] = (1-Jrate)*A_weight[J_index,:] + Capital*Jrate/Ncal\n",
    "    # Jump mixing ends\n",
    "    P_weight *= Bern(ppp,y_test[n])  # updating the passive capital\n",
    "    for k in range(Ncal):\n",
    "      cal_ppp_k = my_cal(ppp,k)  # prediction calibrated by the k-th calibrator\n",
    "      for J_index in range(NJ):\n",
    "        A_weight[J_index,k] *= Bern(cal_ppp_k,y_test[n])  # updating the active capital\n",
    "    Capital = P_weight + np.sum(A_weight[:,:])  # the overall weight\n",
    "    P_weight /= Capital  # normalization of the passive weight\n",
    "    A_weight[:,:] /= Capital  # normalization of the active weights\n",
    "\n",
    "cum_loss = 0  # initialization of the log10 loss of the base predictive system\n",
    "num_infty = 0 # initialization of the number of infinities\n",
    "mod_cum_loss = 0 # initialization of the modified loss\n",
    "for n in range(N_test):\n",
    "  predicted = Bern(p_pred[n],y_test[n])\n",
    "  if predicted==0:\n",
    "    num_infty += 1\n",
    "  else:\n",
    "    cum_loss += -np.log10(predicted)\n",
    "  mod_cum_loss += -np.log10(truncate(predicted))\n",
    "print(\"Base:\",cum_loss,\"with\",num_infty,\"infinities; modified loss:\",mod_cum_loss)\n",
    "\n",
    "cum_loss = 0  # initialization of the log10 loss of the protected predictive system\n",
    "num_infty = 0 # initialization of the number of infinities\n",
    "mod_cum_loss = 0 # initialization of the modified loss\n",
    "for n in range(N_test):\n",
    "  predicted = Bern(p_prime[n],y_test[n])\n",
    "  if predicted==0:\n",
    "    num_infty += 1\n",
    "  else:\n",
    "    cum_loss += -np.log10(predicted)\n",
    "  mod_cum_loss += -np.log10(truncate(predicted))\n",
    "print(\"Protected:\",cum_loss,\"with\",num_infty,\"infinities; modified loss:\",mod_cum_loss)\n",
    "\n",
    "# finding time elapsed in seconds\n",
    "end = time.time()\n",
    "print(\"Time elapsed:\", end - start)"
   ]
  },
  {
   "cell_type": "markdown",
   "metadata": {},
   "source": [
    "## 7 Behaviour of the labels"
   ]
  },
  {
   "cell_type": "markdown",
   "metadata": {},
   "source": [
    "Now let us see the moving average of the labels, ignoring the objects.\n",
    "This cell is used for producing the right panel of Figure S.4 in the supplementary material."
   ]
  },
  {
   "cell_type": "code",
   "execution_count": 26,
   "metadata": {},
   "outputs": [
    {
     "name": "stdout",
     "output_type": "stream",
     "text": [
      "Percentage of ups: 0.4245453742937853\n"
     ]
    },
    {
     "data": {
      "image/png": "[encoded data removed]",
      "text/plain": [
       "<Figure size 432x288 with 1 Axes>"
      ]
     },
     "metadata": {
      "needs_background": "light"
     },
     "output_type": "display_data"
    },
    {
     "name": "stdout",
     "output_type": "stream",
     "text": [
      "Time elapsed: 1.1202301979064941\n"
     ]
    }
   ],
   "source": [
    "window = 1000  # how many labels to average\n",
    "\n",
    "import time\n",
    "start = time.time()\n",
    "\n",
    "N_total = electricity.data.shape[0]   # the size of the dataset (recomputing)\n",
    "\n",
    "# Other view of the data:\n",
    "yy_total = electricity.target[0:N_total]    # vector of all labels (UP or DOWN)\n",
    "\n",
    "# turning the labels into 0 (DOWN) or 1 (UP)\n",
    "y_total = np.empty(N_total)\n",
    "for n in range(N_total):\n",
    "  if yy_total[n]==\"UP\":\n",
    "    y_total[n] = 1\n",
    "  else:\n",
    "    y_total[n] = 0\n",
    "\n",
    "# Simulating artificial (ideal) data:\n",
    "percentage = np.mean(y_total)\n",
    "print(\"Percentage of ups:\", percentage)\n",
    "rg = np.random.default_rng(2021)\n",
    "y_ideal_raw = rg.random(N_total)  # uniformly distributed random numbers\n",
    "y_ideal = np.empty(N_total)\n",
    "for n in range(N_total):\n",
    "  if y_ideal_raw[n]<percentage:\n",
    "    y_ideal[n] = 1\n",
    "  else:\n",
    "    y_ideal[n] = 0\n",
    "\n",
    "MA_real = np.empty(N_total-window+1)  # initializing the real moving average\n",
    "MA_ideal = np.empty(N_total-window+1)  # initializing the real moving average\n",
    "\n",
    "for n in range(N_total-window+1):\n",
    "  MA_real[n] = np.mean(y_total[n:(n+window)])\n",
    "  MA_ideal[n] = np.mean(y_ideal[n:(n+window)])\n",
    "\n",
    "plt.plot(MA_real,c='r',label='real')\n",
    "plt.plot(MA_ideal,c='g',label='ideal')\n",
    "plt.ylabel('moving average')\n",
    "plt.legend()\n",
    "# plt.savefig(\"el_MA.pdf\", bbox_inches='tight')\n",
    "plt.show()\n",
    "\n",
    "# finding time elapsed in seconds\n",
    "end = time.time()\n",
    "print(\"Time elapsed:\", end - start)"
   ]
  },
  {
   "cell_type": "markdown",
   "metadata": {},
   "source": [
    "## 8 Dealing with the time series aspect (only in the supplementary material)"
   ]
  },
  {
   "cell_type": "markdown",
   "metadata": {},
   "source": [
    "Finally, let us add some prehistory.\n",
    "This cell is for producing the right panel of Figure S.9 in the supplementary material\n",
    "(in combination with cells above)."
   ]
  },
  {
   "cell_type": "code",
   "execution_count": 27,
   "metadata": {},
   "outputs": [
    {
     "name": "stdout",
     "output_type": "stream",
     "text": [
      "Percentage of UP in the training set: 0.4345\n",
      "Percentage of UP in the test set: 0.42170485480943737\n",
      "Time elapsed: 0.4977536201477051\n"
     ]
    }
   ],
   "source": [
    "# Parameters:\n",
    "N_train = 10000  # the size of the training set\n",
    "PH_size = 48  # the size of prehistory (in the paper: 48)\n",
    "\n",
    "import time\n",
    "start = time.time()\n",
    "\n",
    "import numpy as np\n",
    "import matplotlib.pyplot as plt\n",
    "\n",
    "from sklearn.datasets import fetch_openml\n",
    "electricity = fetch_openml(name='electricity', version=1)\n",
    "N_full = electricity.data.shape[0]   # the full size of the dataset\n",
    "N_total = N_full - PH_size  # the total size of the dataset with prehistory\n",
    "N_test = N_total - N_train  # the size of the test set\n",
    "N_old_features = electricity.data.shape[1]   # the number of features in the existing dataset\n",
    "N_features = N_old_features + PH_size  # the new number of features (with prehistory)\n",
    "\n",
    "X_full = electricity.data[:]    # matrix of all objects\n",
    "yy_full = electricity.target[:] # vector of all labels (UP or DOWN)\n",
    "\n",
    "# turning the labels into 0 (DOWN) or 1 (UP)\n",
    "y_full = np.empty(N_full)\n",
    "for i in range(N_full):\n",
    "  if yy_full[i]==\"UP\":\n",
    "    y_full[i] = 1\n",
    "  else:\n",
    "    y_full[i] = 0\n",
    "\n",
    "# adding pre-history of size PH\n",
    "X_total = np.empty((N_total,N_features))\n",
    "for i in range(N_total):\n",
    "  X_total[i,0:N_old_features] = X_full[i+PH_size,:]   # the old features\n",
    "  X_total[i,N_old_features:N_features] = y_full[i:(i+PH_size)]  # the prehistory\n",
    "\n",
    "# Other views of the data:\n",
    "X_train = X_total[0:N_train]   # matrix of training objects\n",
    "y_train = y_full[PH_size:(PH_size+N_train)] # vector of training labels (0 or 1)\n",
    "X_test = X_total[N_train:]   # matrix of test objects\n",
    "y_test = y_full[(PH_size+N_train):] # vector of test labels (0 or 1)\n",
    "\n",
    "print(\"Percentage of UP in the training set:\", np.mean(y_train))\n",
    "print(\"Percentage of UP in the test set:\", np.mean(y_test))\n",
    "\n",
    "# finding time elapsed in seconds\n",
    "end = time.time()\n",
    "print(\"Time elapsed:\", end - start)"
   ]
  }
 ],
 "metadata": {
  "kernelspec": {
   "display_name": "Python 3 (ipykernel)",
   "language": "python",
   "name": "python3"
  },
  "language_info": {
   "codemirror_mode": {
    "name": "ipython",
    "version": 3
   },
   "file_extension": ".py",
   "mimetype": "text/x-python",
   "name": "python",
   "nbconvert_exporter": "python",
   "pygments_lexer": "ipython3",
   "version": "3.9.13"
  }
 },
 "nbformat": 4,
 "nbformat_minor": 4
}
